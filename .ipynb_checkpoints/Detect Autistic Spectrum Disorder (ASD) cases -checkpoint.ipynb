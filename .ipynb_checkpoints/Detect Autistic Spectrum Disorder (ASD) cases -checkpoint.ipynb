{
 "cells": [
  {
   "cell_type": "markdown",
   "id": "e6338d51",
   "metadata": {},
   "source": [
    "# <span style='color: red'> Detect Autistic Spectrum Disorder (ASD) cases Predicion </span>\n"
   ]
  },
  {
   "cell_type": "markdown",
   "id": "a08d810e",
   "metadata": {},
   "source": [
    "## <span style='color: green'>  Import required libraries </span>"
   ]
  },
  {
   "cell_type": "code",
   "execution_count": 1,
   "id": "488d4a4f",
   "metadata": {},
   "outputs": [],
   "source": [
    "import pandas as pd \n",
    "import re\n",
    "import numpy as np\n",
    "import seaborn as sns\n",
    "import matplotlib.pyplot as plt \n",
    "from warnings import filterwarnings\n",
    "filterwarnings('ignore')"
   ]
  },
  {
   "cell_type": "markdown",
   "id": "c70397e0",
   "metadata": {},
   "source": [
    "## <span style='color: green'> Data Ingestion </span>"
   ]
  },
  {
   "cell_type": "code",
   "execution_count": 2,
   "id": "d115b10c",
   "metadata": {},
   "outputs": [],
   "source": [
    "columns=['A1_Score','A2_Score','A3_Score','A4_Score','A5_Score','A6_Score','A7_Score','A8_Score','A9_Score','A10_Score','age numeric','gender','ethnicity','jundice','austim','contry_of_res','used_app_before','result numeric','age_desc','relation','Class_ASD']"
   ]
  },
  {
   "cell_type": "code",
   "execution_count": 3,
   "id": "ec411f53",
   "metadata": {},
   "outputs": [
    {
     "data": {
      "text/html": [
       "<div>\n",
       "<style scoped>\n",
       "    .dataframe tbody tr th:only-of-type {\n",
       "        vertical-align: middle;\n",
       "    }\n",
       "\n",
       "    .dataframe tbody tr th {\n",
       "        vertical-align: top;\n",
       "    }\n",
       "\n",
       "    .dataframe thead th {\n",
       "        text-align: right;\n",
       "    }\n",
       "</style>\n",
       "<table border=\"1\" class=\"dataframe\">\n",
       "  <thead>\n",
       "    <tr style=\"text-align: right;\">\n",
       "      <th></th>\n",
       "      <th>A1_Score</th>\n",
       "      <th>A2_Score</th>\n",
       "      <th>A3_Score</th>\n",
       "      <th>A4_Score</th>\n",
       "      <th>A5_Score</th>\n",
       "      <th>A6_Score</th>\n",
       "      <th>A7_Score</th>\n",
       "      <th>A8_Score</th>\n",
       "      <th>A9_Score</th>\n",
       "      <th>A10_Score</th>\n",
       "      <th>...</th>\n",
       "      <th>gender</th>\n",
       "      <th>ethnicity</th>\n",
       "      <th>jundice</th>\n",
       "      <th>austim</th>\n",
       "      <th>contry_of_res</th>\n",
       "      <th>used_app_before</th>\n",
       "      <th>result numeric</th>\n",
       "      <th>age_desc</th>\n",
       "      <th>relation</th>\n",
       "      <th>Class_ASD</th>\n",
       "    </tr>\n",
       "  </thead>\n",
       "  <tbody>\n",
       "    <tr>\n",
       "      <th>0</th>\n",
       "      <td>1</td>\n",
       "      <td>1</td>\n",
       "      <td>1</td>\n",
       "      <td>1</td>\n",
       "      <td>0</td>\n",
       "      <td>0</td>\n",
       "      <td>1</td>\n",
       "      <td>1</td>\n",
       "      <td>0</td>\n",
       "      <td>0</td>\n",
       "      <td>...</td>\n",
       "      <td>f</td>\n",
       "      <td>White-European</td>\n",
       "      <td>no</td>\n",
       "      <td>no</td>\n",
       "      <td>'United States'</td>\n",
       "      <td>no</td>\n",
       "      <td>6</td>\n",
       "      <td>'18 and more'</td>\n",
       "      <td>Self</td>\n",
       "      <td>NO</td>\n",
       "    </tr>\n",
       "    <tr>\n",
       "      <th>1</th>\n",
       "      <td>1</td>\n",
       "      <td>1</td>\n",
       "      <td>0</td>\n",
       "      <td>1</td>\n",
       "      <td>0</td>\n",
       "      <td>0</td>\n",
       "      <td>0</td>\n",
       "      <td>1</td>\n",
       "      <td>0</td>\n",
       "      <td>1</td>\n",
       "      <td>...</td>\n",
       "      <td>m</td>\n",
       "      <td>Latino</td>\n",
       "      <td>no</td>\n",
       "      <td>yes</td>\n",
       "      <td>Brazil</td>\n",
       "      <td>no</td>\n",
       "      <td>5</td>\n",
       "      <td>'18 and more'</td>\n",
       "      <td>Self</td>\n",
       "      <td>NO</td>\n",
       "    </tr>\n",
       "    <tr>\n",
       "      <th>2</th>\n",
       "      <td>1</td>\n",
       "      <td>1</td>\n",
       "      <td>0</td>\n",
       "      <td>1</td>\n",
       "      <td>1</td>\n",
       "      <td>0</td>\n",
       "      <td>1</td>\n",
       "      <td>1</td>\n",
       "      <td>1</td>\n",
       "      <td>1</td>\n",
       "      <td>...</td>\n",
       "      <td>m</td>\n",
       "      <td>Latino</td>\n",
       "      <td>yes</td>\n",
       "      <td>yes</td>\n",
       "      <td>Spain</td>\n",
       "      <td>no</td>\n",
       "      <td>8</td>\n",
       "      <td>'18 and more'</td>\n",
       "      <td>Parent</td>\n",
       "      <td>YES</td>\n",
       "    </tr>\n",
       "    <tr>\n",
       "      <th>3</th>\n",
       "      <td>1</td>\n",
       "      <td>1</td>\n",
       "      <td>0</td>\n",
       "      <td>1</td>\n",
       "      <td>0</td>\n",
       "      <td>0</td>\n",
       "      <td>1</td>\n",
       "      <td>1</td>\n",
       "      <td>0</td>\n",
       "      <td>1</td>\n",
       "      <td>...</td>\n",
       "      <td>f</td>\n",
       "      <td>White-European</td>\n",
       "      <td>no</td>\n",
       "      <td>yes</td>\n",
       "      <td>'United States'</td>\n",
       "      <td>no</td>\n",
       "      <td>6</td>\n",
       "      <td>'18 and more'</td>\n",
       "      <td>Self</td>\n",
       "      <td>NO</td>\n",
       "    </tr>\n",
       "    <tr>\n",
       "      <th>4</th>\n",
       "      <td>1</td>\n",
       "      <td>0</td>\n",
       "      <td>0</td>\n",
       "      <td>0</td>\n",
       "      <td>0</td>\n",
       "      <td>0</td>\n",
       "      <td>0</td>\n",
       "      <td>1</td>\n",
       "      <td>0</td>\n",
       "      <td>0</td>\n",
       "      <td>...</td>\n",
       "      <td>f</td>\n",
       "      <td>?</td>\n",
       "      <td>no</td>\n",
       "      <td>no</td>\n",
       "      <td>Egypt</td>\n",
       "      <td>no</td>\n",
       "      <td>2</td>\n",
       "      <td>'18 and more'</td>\n",
       "      <td>?</td>\n",
       "      <td>NO</td>\n",
       "    </tr>\n",
       "    <tr>\n",
       "      <th>...</th>\n",
       "      <td>...</td>\n",
       "      <td>...</td>\n",
       "      <td>...</td>\n",
       "      <td>...</td>\n",
       "      <td>...</td>\n",
       "      <td>...</td>\n",
       "      <td>...</td>\n",
       "      <td>...</td>\n",
       "      <td>...</td>\n",
       "      <td>...</td>\n",
       "      <td>...</td>\n",
       "      <td>...</td>\n",
       "      <td>...</td>\n",
       "      <td>...</td>\n",
       "      <td>...</td>\n",
       "      <td>...</td>\n",
       "      <td>...</td>\n",
       "      <td>...</td>\n",
       "      <td>...</td>\n",
       "      <td>...</td>\n",
       "      <td>...</td>\n",
       "    </tr>\n",
       "    <tr>\n",
       "      <th>699</th>\n",
       "      <td>0</td>\n",
       "      <td>1</td>\n",
       "      <td>0</td>\n",
       "      <td>1</td>\n",
       "      <td>1</td>\n",
       "      <td>0</td>\n",
       "      <td>1</td>\n",
       "      <td>1</td>\n",
       "      <td>1</td>\n",
       "      <td>1</td>\n",
       "      <td>...</td>\n",
       "      <td>f</td>\n",
       "      <td>White-European</td>\n",
       "      <td>no</td>\n",
       "      <td>no</td>\n",
       "      <td>Russia</td>\n",
       "      <td>no</td>\n",
       "      <td>7</td>\n",
       "      <td>'18 and more'</td>\n",
       "      <td>Self</td>\n",
       "      <td>YES</td>\n",
       "    </tr>\n",
       "    <tr>\n",
       "      <th>700</th>\n",
       "      <td>1</td>\n",
       "      <td>0</td>\n",
       "      <td>0</td>\n",
       "      <td>0</td>\n",
       "      <td>0</td>\n",
       "      <td>0</td>\n",
       "      <td>0</td>\n",
       "      <td>1</td>\n",
       "      <td>0</td>\n",
       "      <td>1</td>\n",
       "      <td>...</td>\n",
       "      <td>m</td>\n",
       "      <td>Hispanic</td>\n",
       "      <td>no</td>\n",
       "      <td>no</td>\n",
       "      <td>Mexico</td>\n",
       "      <td>no</td>\n",
       "      <td>3</td>\n",
       "      <td>'18 and more'</td>\n",
       "      <td>Parent</td>\n",
       "      <td>NO</td>\n",
       "    </tr>\n",
       "    <tr>\n",
       "      <th>701</th>\n",
       "      <td>1</td>\n",
       "      <td>0</td>\n",
       "      <td>1</td>\n",
       "      <td>1</td>\n",
       "      <td>1</td>\n",
       "      <td>0</td>\n",
       "      <td>1</td>\n",
       "      <td>1</td>\n",
       "      <td>0</td>\n",
       "      <td>1</td>\n",
       "      <td>...</td>\n",
       "      <td>f</td>\n",
       "      <td>?</td>\n",
       "      <td>no</td>\n",
       "      <td>no</td>\n",
       "      <td>Russia</td>\n",
       "      <td>no</td>\n",
       "      <td>7</td>\n",
       "      <td>'18 and more'</td>\n",
       "      <td>?</td>\n",
       "      <td>YES</td>\n",
       "    </tr>\n",
       "    <tr>\n",
       "      <th>702</th>\n",
       "      <td>1</td>\n",
       "      <td>0</td>\n",
       "      <td>0</td>\n",
       "      <td>1</td>\n",
       "      <td>1</td>\n",
       "      <td>0</td>\n",
       "      <td>1</td>\n",
       "      <td>0</td>\n",
       "      <td>1</td>\n",
       "      <td>1</td>\n",
       "      <td>...</td>\n",
       "      <td>m</td>\n",
       "      <td>'South Asian'</td>\n",
       "      <td>no</td>\n",
       "      <td>no</td>\n",
       "      <td>Pakistan</td>\n",
       "      <td>no</td>\n",
       "      <td>6</td>\n",
       "      <td>'18 and more'</td>\n",
       "      <td>Self</td>\n",
       "      <td>NO</td>\n",
       "    </tr>\n",
       "    <tr>\n",
       "      <th>703</th>\n",
       "      <td>1</td>\n",
       "      <td>0</td>\n",
       "      <td>1</td>\n",
       "      <td>1</td>\n",
       "      <td>1</td>\n",
       "      <td>0</td>\n",
       "      <td>1</td>\n",
       "      <td>1</td>\n",
       "      <td>1</td>\n",
       "      <td>1</td>\n",
       "      <td>...</td>\n",
       "      <td>f</td>\n",
       "      <td>White-European</td>\n",
       "      <td>no</td>\n",
       "      <td>no</td>\n",
       "      <td>Cyprus</td>\n",
       "      <td>no</td>\n",
       "      <td>8</td>\n",
       "      <td>'18 and more'</td>\n",
       "      <td>Self</td>\n",
       "      <td>YES</td>\n",
       "    </tr>\n",
       "  </tbody>\n",
       "</table>\n",
       "<p>704 rows × 21 columns</p>\n",
       "</div>"
      ],
      "text/plain": [
       "     A1_Score  A2_Score  A3_Score  A4_Score  A5_Score  A6_Score  A7_Score  \\\n",
       "0           1         1         1         1         0         0         1   \n",
       "1           1         1         0         1         0         0         0   \n",
       "2           1         1         0         1         1         0         1   \n",
       "3           1         1         0         1         0         0         1   \n",
       "4           1         0         0         0         0         0         0   \n",
       "..        ...       ...       ...       ...       ...       ...       ...   \n",
       "699         0         1         0         1         1         0         1   \n",
       "700         1         0         0         0         0         0         0   \n",
       "701         1         0         1         1         1         0         1   \n",
       "702         1         0         0         1         1         0         1   \n",
       "703         1         0         1         1         1         0         1   \n",
       "\n",
       "     A8_Score  A9_Score  A10_Score  ... gender       ethnicity jundice austim  \\\n",
       "0           1         0          0  ...      f  White-European      no     no   \n",
       "1           1         0          1  ...      m          Latino      no    yes   \n",
       "2           1         1          1  ...      m          Latino     yes    yes   \n",
       "3           1         0          1  ...      f  White-European      no    yes   \n",
       "4           1         0          0  ...      f               ?      no     no   \n",
       "..        ...       ...        ...  ...    ...             ...     ...    ...   \n",
       "699         1         1          1  ...      f  White-European      no     no   \n",
       "700         1         0          1  ...      m        Hispanic      no     no   \n",
       "701         1         0          1  ...      f               ?      no     no   \n",
       "702         0         1          1  ...      m   'South Asian'      no     no   \n",
       "703         1         1          1  ...      f  White-European      no     no   \n",
       "\n",
       "       contry_of_res used_app_before result numeric       age_desc relation  \\\n",
       "0    'United States'              no              6  '18 and more'     Self   \n",
       "1             Brazil              no              5  '18 and more'     Self   \n",
       "2              Spain              no              8  '18 and more'   Parent   \n",
       "3    'United States'              no              6  '18 and more'     Self   \n",
       "4              Egypt              no              2  '18 and more'        ?   \n",
       "..               ...             ...            ...            ...      ...   \n",
       "699           Russia              no              7  '18 and more'     Self   \n",
       "700           Mexico              no              3  '18 and more'   Parent   \n",
       "701           Russia              no              7  '18 and more'        ?   \n",
       "702         Pakistan              no              6  '18 and more'     Self   \n",
       "703           Cyprus              no              8  '18 and more'     Self   \n",
       "\n",
       "    Class_ASD  \n",
       "0          NO  \n",
       "1          NO  \n",
       "2         YES  \n",
       "3          NO  \n",
       "4          NO  \n",
       "..        ...  \n",
       "699       YES  \n",
       "700        NO  \n",
       "701       YES  \n",
       "702        NO  \n",
       "703       YES  \n",
       "\n",
       "[704 rows x 21 columns]"
      ]
     },
     "execution_count": 3,
     "metadata": {},
     "output_type": "execute_result"
    }
   ],
   "source": [
    "df= pd.read_csv(\"Autism-Adult-Data.arff\",names=columns,skiprows=25)\n",
    "df"
   ]
  },
  {
   "cell_type": "markdown",
   "id": "b0a4b12f",
   "metadata": {},
   "source": [
    "## <span style='color: green'> PreProcessing EDA and Feature Engineering </span>"
   ]
  },
  {
   "cell_type": "code",
   "execution_count": 4,
   "id": "d511a1e7",
   "metadata": {},
   "outputs": [
    {
     "data": {
      "text/plain": [
       "(704, 21)"
      ]
     },
     "execution_count": 4,
     "metadata": {},
     "output_type": "execute_result"
    }
   ],
   "source": [
    "df.shape"
   ]
  },
  {
   "cell_type": "code",
   "execution_count": 5,
   "id": "38a944fc",
   "metadata": {},
   "outputs": [
    {
     "data": {
      "text/plain": [
       "A1_Score            int64\n",
       "A2_Score            int64\n",
       "A3_Score            int64\n",
       "A4_Score            int64\n",
       "A5_Score            int64\n",
       "A6_Score            int64\n",
       "A7_Score            int64\n",
       "A8_Score            int64\n",
       "A9_Score            int64\n",
       "A10_Score           int64\n",
       "age numeric        object\n",
       "gender             object\n",
       "ethnicity          object\n",
       "jundice            object\n",
       "austim             object\n",
       "contry_of_res      object\n",
       "used_app_before    object\n",
       "result numeric      int64\n",
       "age_desc           object\n",
       "relation           object\n",
       "Class_ASD          object\n",
       "dtype: object"
      ]
     },
     "execution_count": 5,
     "metadata": {},
     "output_type": "execute_result"
    }
   ],
   "source": [
    "df.dtypes"
   ]
  },
  {
   "cell_type": "code",
   "execution_count": 6,
   "id": "e8766054",
   "metadata": {},
   "outputs": [],
   "source": [
    "num_features=[col for col in df.columns if df[col].dtype!='O']\n",
    "num_df = df[num_features]"
   ]
  },
  {
   "cell_type": "code",
   "execution_count": 7,
   "id": "78340e17",
   "metadata": {},
   "outputs": [
    {
     "data": {
      "text/plain": [
       "['A1_Score',\n",
       " 'A2_Score',\n",
       " 'A3_Score',\n",
       " 'A4_Score',\n",
       " 'A5_Score',\n",
       " 'A6_Score',\n",
       " 'A7_Score',\n",
       " 'A8_Score',\n",
       " 'A9_Score',\n",
       " 'A10_Score',\n",
       " 'result numeric']"
      ]
     },
     "execution_count": 7,
     "metadata": {},
     "output_type": "execute_result"
    }
   ],
   "source": [
    "num_features"
   ]
  },
  {
   "cell_type": "code",
   "execution_count": 8,
   "id": "e6f5a65e",
   "metadata": {},
   "outputs": [],
   "source": [
    "categorical=[col for col in df.columns if df[col].dtype=='O']\n",
    "cat_df = df[categorical]"
   ]
  },
  {
   "cell_type": "code",
   "execution_count": 9,
   "id": "f57d1865",
   "metadata": {},
   "outputs": [
    {
     "name": "stdout",
     "output_type": "stream",
     "text": [
      "age numeric >>> ['26' '24' '27' '35' '40' '36' '17' '64' '29' '33' '18' '31' '30' '34'\n",
      " '38' '42' '43' '48' '37' '55' '50' '53' '20' '28' '21' '383' '47' '32'\n",
      " '44' '?' '19' '58' '45' '22' '39' '25' '23' '54' '60' '41' '46' '56' '61'\n",
      " '59' '52' '49' '51']\n",
      "\n",
      "****************************************\n",
      "gender >>> ['f' 'm']\n",
      "\n",
      "****************************************\n",
      "ethnicity >>> ['White-European' 'Latino' '?' 'Others' 'Black' 'Asian'\n",
      " \"'Middle Eastern '\" 'Pasifika' \"'South Asian'\" 'Hispanic' 'Turkish'\n",
      " 'others']\n",
      "\n",
      "****************************************\n",
      "jundice >>> ['no' 'yes']\n",
      "\n",
      "****************************************\n",
      "austim >>> ['no' 'yes']\n",
      "\n",
      "****************************************\n",
      "contry_of_res >>> [\"'United States'\" 'Brazil' 'Spain' 'Egypt' \"'New Zealand'\" 'Bahamas'\n",
      " 'Burundi' 'Austria' 'Argentina' 'Jordan' 'Ireland'\n",
      " \"'United Arab Emirates'\" 'Afghanistan' 'Lebanon' \"'United Kingdom'\"\n",
      " \"'South Africa'\" 'Italy' 'Pakistan' 'Bangladesh' 'Chile' 'France' 'China'\n",
      " 'Australia' 'Canada' \"'Saudi Arabia'\" 'Netherlands' 'Romania' 'Sweden'\n",
      " 'Tonga' 'Oman' 'India' 'Philippines' \"'Sri Lanka'\" \"'Sierra Leone'\"\n",
      " 'Ethiopia' \"'Viet Nam'\" 'Iran' \"'Costa Rica'\" 'Germany' 'Mexico' 'Russia'\n",
      " 'Armenia' 'Iceland' 'Nicaragua' \"'Hong Kong'\" 'Japan' 'Ukraine'\n",
      " 'Kazakhstan' 'AmericanSamoa' 'Uruguay' 'Serbia' 'Portugal' 'Malaysia'\n",
      " 'Ecuador' 'Niger' 'Belgium' 'Bolivia' 'Aruba' 'Finland' 'Turkey' 'Nepal'\n",
      " 'Indonesia' 'Angola' 'Azerbaijan' 'Iraq' \"'Czech Republic'\" 'Cyprus']\n",
      "\n",
      "****************************************\n",
      "used_app_before >>> ['no' 'yes']\n",
      "\n",
      "****************************************\n",
      "age_desc >>> [\"'18 and more'\"]\n",
      "\n",
      "****************************************\n",
      "relation >>> ['Self' 'Parent' '?' \"'Health care professional'\" 'Relative' 'Others']\n",
      "\n",
      "****************************************\n",
      "Class_ASD >>> ['NO' 'YES']\n",
      "\n",
      "****************************************\n"
     ]
    }
   ],
   "source": [
    "for i in cat_df:\n",
    "    print(i,'>>>',df[i].unique())\n",
    "    print()\n",
    "    print(\"**\"*20)"
   ]
  },
  {
   "cell_type": "code",
   "execution_count": 10,
   "id": "fa152183",
   "metadata": {},
   "outputs": [],
   "source": [
    "df.replace(\"?\",np.nan,inplace=True)"
   ]
  },
  {
   "cell_type": "code",
   "execution_count": 11,
   "id": "77f05096",
   "metadata": {},
   "outputs": [
    {
     "data": {
      "text/plain": [
       "704"
      ]
     },
     "execution_count": 11,
     "metadata": {},
     "output_type": "execute_result"
    }
   ],
   "source": [
    "df.shape[0]"
   ]
  },
  {
   "cell_type": "code",
   "execution_count": 12,
   "id": "d5a213b9",
   "metadata": {},
   "outputs": [
    {
     "data": {
      "text/plain": [
       "A1_Score            0.000000\n",
       "A2_Score            0.000000\n",
       "A3_Score            0.000000\n",
       "A4_Score            0.000000\n",
       "A5_Score            0.000000\n",
       "A6_Score            0.000000\n",
       "A7_Score            0.000000\n",
       "A8_Score            0.000000\n",
       "A9_Score            0.000000\n",
       "A10_Score           0.000000\n",
       "age numeric         0.284091\n",
       "gender              0.000000\n",
       "ethnicity          13.494318\n",
       "jundice             0.000000\n",
       "austim              0.000000\n",
       "contry_of_res       0.000000\n",
       "used_app_before     0.000000\n",
       "result numeric      0.000000\n",
       "age_desc            0.000000\n",
       "relation           13.494318\n",
       "Class_ASD           0.000000\n",
       "dtype: float64"
      ]
     },
     "execution_count": 12,
     "metadata": {},
     "output_type": "execute_result"
    }
   ],
   "source": [
    "df.isna().sum()/df.shape[0]*100"
   ]
  },
  {
   "cell_type": "code",
   "execution_count": 13,
   "id": "90f9f073",
   "metadata": {},
   "outputs": [
    {
     "data": {
      "text/html": [
       "<div>\n",
       "<style scoped>\n",
       "    .dataframe tbody tr th:only-of-type {\n",
       "        vertical-align: middle;\n",
       "    }\n",
       "\n",
       "    .dataframe tbody tr th {\n",
       "        vertical-align: top;\n",
       "    }\n",
       "\n",
       "    .dataframe thead th {\n",
       "        text-align: right;\n",
       "    }\n",
       "</style>\n",
       "<table border=\"1\" class=\"dataframe\">\n",
       "  <thead>\n",
       "    <tr style=\"text-align: right;\">\n",
       "      <th></th>\n",
       "      <th>A1_Score</th>\n",
       "      <th>A2_Score</th>\n",
       "      <th>A3_Score</th>\n",
       "      <th>A4_Score</th>\n",
       "      <th>A5_Score</th>\n",
       "      <th>A6_Score</th>\n",
       "      <th>A7_Score</th>\n",
       "      <th>A8_Score</th>\n",
       "      <th>A9_Score</th>\n",
       "      <th>A10_Score</th>\n",
       "      <th>...</th>\n",
       "      <th>gender</th>\n",
       "      <th>ethnicity</th>\n",
       "      <th>jundice</th>\n",
       "      <th>austim</th>\n",
       "      <th>contry_of_res</th>\n",
       "      <th>used_app_before</th>\n",
       "      <th>result numeric</th>\n",
       "      <th>age_desc</th>\n",
       "      <th>relation</th>\n",
       "      <th>Class_ASD</th>\n",
       "    </tr>\n",
       "  </thead>\n",
       "  <tbody>\n",
       "    <tr>\n",
       "      <th>62</th>\n",
       "      <td>0</td>\n",
       "      <td>0</td>\n",
       "      <td>0</td>\n",
       "      <td>0</td>\n",
       "      <td>0</td>\n",
       "      <td>0</td>\n",
       "      <td>0</td>\n",
       "      <td>0</td>\n",
       "      <td>0</td>\n",
       "      <td>0</td>\n",
       "      <td>...</td>\n",
       "      <td>m</td>\n",
       "      <td>NaN</td>\n",
       "      <td>no</td>\n",
       "      <td>no</td>\n",
       "      <td>'Saudi Arabia'</td>\n",
       "      <td>no</td>\n",
       "      <td>0</td>\n",
       "      <td>'18 and more'</td>\n",
       "      <td>NaN</td>\n",
       "      <td>NO</td>\n",
       "    </tr>\n",
       "    <tr>\n",
       "      <th>91</th>\n",
       "      <td>0</td>\n",
       "      <td>1</td>\n",
       "      <td>0</td>\n",
       "      <td>0</td>\n",
       "      <td>1</td>\n",
       "      <td>0</td>\n",
       "      <td>1</td>\n",
       "      <td>0</td>\n",
       "      <td>0</td>\n",
       "      <td>1</td>\n",
       "      <td>...</td>\n",
       "      <td>f</td>\n",
       "      <td>NaN</td>\n",
       "      <td>no</td>\n",
       "      <td>no</td>\n",
       "      <td>Jordan</td>\n",
       "      <td>no</td>\n",
       "      <td>4</td>\n",
       "      <td>'18 and more'</td>\n",
       "      <td>NaN</td>\n",
       "      <td>NO</td>\n",
       "    </tr>\n",
       "  </tbody>\n",
       "</table>\n",
       "<p>2 rows × 21 columns</p>\n",
       "</div>"
      ],
      "text/plain": [
       "    A1_Score  A2_Score  A3_Score  A4_Score  A5_Score  A6_Score  A7_Score  \\\n",
       "62         0         0         0         0         0         0         0   \n",
       "91         0         1         0         0         1         0         1   \n",
       "\n",
       "    A8_Score  A9_Score  A10_Score  ... gender ethnicity jundice austim  \\\n",
       "62         0         0          0  ...      m       NaN      no     no   \n",
       "91         0         0          1  ...      f       NaN      no     no   \n",
       "\n",
       "     contry_of_res used_app_before result numeric       age_desc relation  \\\n",
       "62  'Saudi Arabia'              no              0  '18 and more'      NaN   \n",
       "91          Jordan              no              4  '18 and more'      NaN   \n",
       "\n",
       "   Class_ASD  \n",
       "62        NO  \n",
       "91        NO  \n",
       "\n",
       "[2 rows x 21 columns]"
      ]
     },
     "execution_count": 13,
     "metadata": {},
     "output_type": "execute_result"
    }
   ],
   "source": [
    "df[df['age numeric'].isna()]"
   ]
  },
  {
   "cell_type": "code",
   "execution_count": 14,
   "id": "6f314f04",
   "metadata": {},
   "outputs": [
    {
     "data": {
      "text/html": [
       "<div>\n",
       "<style scoped>\n",
       "    .dataframe tbody tr th:only-of-type {\n",
       "        vertical-align: middle;\n",
       "    }\n",
       "\n",
       "    .dataframe tbody tr th {\n",
       "        vertical-align: top;\n",
       "    }\n",
       "\n",
       "    .dataframe thead th {\n",
       "        text-align: right;\n",
       "    }\n",
       "</style>\n",
       "<table border=\"1\" class=\"dataframe\">\n",
       "  <thead>\n",
       "    <tr style=\"text-align: right;\">\n",
       "      <th></th>\n",
       "      <th>A1_Score</th>\n",
       "      <th>A2_Score</th>\n",
       "      <th>A3_Score</th>\n",
       "      <th>A4_Score</th>\n",
       "      <th>A5_Score</th>\n",
       "      <th>A6_Score</th>\n",
       "      <th>A7_Score</th>\n",
       "      <th>A8_Score</th>\n",
       "      <th>A9_Score</th>\n",
       "      <th>A10_Score</th>\n",
       "      <th>...</th>\n",
       "      <th>gender</th>\n",
       "      <th>ethnicity</th>\n",
       "      <th>jundice</th>\n",
       "      <th>austim</th>\n",
       "      <th>contry_of_res</th>\n",
       "      <th>used_app_before</th>\n",
       "      <th>result numeric</th>\n",
       "      <th>age_desc</th>\n",
       "      <th>relation</th>\n",
       "      <th>Class_ASD</th>\n",
       "    </tr>\n",
       "  </thead>\n",
       "  <tbody>\n",
       "    <tr>\n",
       "      <th>4</th>\n",
       "      <td>1</td>\n",
       "      <td>0</td>\n",
       "      <td>0</td>\n",
       "      <td>0</td>\n",
       "      <td>0</td>\n",
       "      <td>0</td>\n",
       "      <td>0</td>\n",
       "      <td>1</td>\n",
       "      <td>0</td>\n",
       "      <td>0</td>\n",
       "      <td>...</td>\n",
       "      <td>f</td>\n",
       "      <td>NaN</td>\n",
       "      <td>no</td>\n",
       "      <td>no</td>\n",
       "      <td>Egypt</td>\n",
       "      <td>no</td>\n",
       "      <td>2</td>\n",
       "      <td>'18 and more'</td>\n",
       "      <td>NaN</td>\n",
       "      <td>NO</td>\n",
       "    </tr>\n",
       "    <tr>\n",
       "      <th>12</th>\n",
       "      <td>0</td>\n",
       "      <td>1</td>\n",
       "      <td>1</td>\n",
       "      <td>1</td>\n",
       "      <td>1</td>\n",
       "      <td>1</td>\n",
       "      <td>0</td>\n",
       "      <td>0</td>\n",
       "      <td>1</td>\n",
       "      <td>0</td>\n",
       "      <td>...</td>\n",
       "      <td>f</td>\n",
       "      <td>NaN</td>\n",
       "      <td>no</td>\n",
       "      <td>no</td>\n",
       "      <td>Bahamas</td>\n",
       "      <td>no</td>\n",
       "      <td>6</td>\n",
       "      <td>'18 and more'</td>\n",
       "      <td>NaN</td>\n",
       "      <td>NO</td>\n",
       "    </tr>\n",
       "    <tr>\n",
       "      <th>13</th>\n",
       "      <td>1</td>\n",
       "      <td>0</td>\n",
       "      <td>0</td>\n",
       "      <td>0</td>\n",
       "      <td>0</td>\n",
       "      <td>0</td>\n",
       "      <td>1</td>\n",
       "      <td>1</td>\n",
       "      <td>0</td>\n",
       "      <td>1</td>\n",
       "      <td>...</td>\n",
       "      <td>m</td>\n",
       "      <td>NaN</td>\n",
       "      <td>no</td>\n",
       "      <td>no</td>\n",
       "      <td>Austria</td>\n",
       "      <td>no</td>\n",
       "      <td>4</td>\n",
       "      <td>'18 and more'</td>\n",
       "      <td>NaN</td>\n",
       "      <td>NO</td>\n",
       "    </tr>\n",
       "    <tr>\n",
       "      <th>14</th>\n",
       "      <td>1</td>\n",
       "      <td>0</td>\n",
       "      <td>0</td>\n",
       "      <td>0</td>\n",
       "      <td>0</td>\n",
       "      <td>0</td>\n",
       "      <td>1</td>\n",
       "      <td>1</td>\n",
       "      <td>0</td>\n",
       "      <td>1</td>\n",
       "      <td>...</td>\n",
       "      <td>f</td>\n",
       "      <td>NaN</td>\n",
       "      <td>no</td>\n",
       "      <td>no</td>\n",
       "      <td>Argentina</td>\n",
       "      <td>no</td>\n",
       "      <td>4</td>\n",
       "      <td>'18 and more'</td>\n",
       "      <td>NaN</td>\n",
       "      <td>NO</td>\n",
       "    </tr>\n",
       "    <tr>\n",
       "      <th>19</th>\n",
       "      <td>0</td>\n",
       "      <td>0</td>\n",
       "      <td>0</td>\n",
       "      <td>0</td>\n",
       "      <td>0</td>\n",
       "      <td>0</td>\n",
       "      <td>1</td>\n",
       "      <td>1</td>\n",
       "      <td>0</td>\n",
       "      <td>1</td>\n",
       "      <td>...</td>\n",
       "      <td>m</td>\n",
       "      <td>NaN</td>\n",
       "      <td>yes</td>\n",
       "      <td>no</td>\n",
       "      <td>'United Arab Emirates'</td>\n",
       "      <td>no</td>\n",
       "      <td>3</td>\n",
       "      <td>'18 and more'</td>\n",
       "      <td>NaN</td>\n",
       "      <td>NO</td>\n",
       "    </tr>\n",
       "    <tr>\n",
       "      <th>...</th>\n",
       "      <td>...</td>\n",
       "      <td>...</td>\n",
       "      <td>...</td>\n",
       "      <td>...</td>\n",
       "      <td>...</td>\n",
       "      <td>...</td>\n",
       "      <td>...</td>\n",
       "      <td>...</td>\n",
       "      <td>...</td>\n",
       "      <td>...</td>\n",
       "      <td>...</td>\n",
       "      <td>...</td>\n",
       "      <td>...</td>\n",
       "      <td>...</td>\n",
       "      <td>...</td>\n",
       "      <td>...</td>\n",
       "      <td>...</td>\n",
       "      <td>...</td>\n",
       "      <td>...</td>\n",
       "      <td>...</td>\n",
       "      <td>...</td>\n",
       "    </tr>\n",
       "    <tr>\n",
       "      <th>652</th>\n",
       "      <td>0</td>\n",
       "      <td>0</td>\n",
       "      <td>0</td>\n",
       "      <td>0</td>\n",
       "      <td>0</td>\n",
       "      <td>0</td>\n",
       "      <td>0</td>\n",
       "      <td>0</td>\n",
       "      <td>0</td>\n",
       "      <td>1</td>\n",
       "      <td>...</td>\n",
       "      <td>f</td>\n",
       "      <td>NaN</td>\n",
       "      <td>no</td>\n",
       "      <td>no</td>\n",
       "      <td>'United States'</td>\n",
       "      <td>no</td>\n",
       "      <td>1</td>\n",
       "      <td>'18 and more'</td>\n",
       "      <td>NaN</td>\n",
       "      <td>NO</td>\n",
       "    </tr>\n",
       "    <tr>\n",
       "      <th>658</th>\n",
       "      <td>0</td>\n",
       "      <td>0</td>\n",
       "      <td>1</td>\n",
       "      <td>1</td>\n",
       "      <td>0</td>\n",
       "      <td>0</td>\n",
       "      <td>1</td>\n",
       "      <td>0</td>\n",
       "      <td>0</td>\n",
       "      <td>0</td>\n",
       "      <td>...</td>\n",
       "      <td>m</td>\n",
       "      <td>NaN</td>\n",
       "      <td>no</td>\n",
       "      <td>no</td>\n",
       "      <td>Azerbaijan</td>\n",
       "      <td>no</td>\n",
       "      <td>3</td>\n",
       "      <td>'18 and more'</td>\n",
       "      <td>NaN</td>\n",
       "      <td>NO</td>\n",
       "    </tr>\n",
       "    <tr>\n",
       "      <th>659</th>\n",
       "      <td>1</td>\n",
       "      <td>1</td>\n",
       "      <td>1</td>\n",
       "      <td>1</td>\n",
       "      <td>1</td>\n",
       "      <td>1</td>\n",
       "      <td>0</td>\n",
       "      <td>0</td>\n",
       "      <td>1</td>\n",
       "      <td>1</td>\n",
       "      <td>...</td>\n",
       "      <td>m</td>\n",
       "      <td>NaN</td>\n",
       "      <td>no</td>\n",
       "      <td>no</td>\n",
       "      <td>Pakistan</td>\n",
       "      <td>no</td>\n",
       "      <td>8</td>\n",
       "      <td>'18 and more'</td>\n",
       "      <td>NaN</td>\n",
       "      <td>YES</td>\n",
       "    </tr>\n",
       "    <tr>\n",
       "      <th>666</th>\n",
       "      <td>0</td>\n",
       "      <td>0</td>\n",
       "      <td>0</td>\n",
       "      <td>0</td>\n",
       "      <td>0</td>\n",
       "      <td>0</td>\n",
       "      <td>0</td>\n",
       "      <td>1</td>\n",
       "      <td>0</td>\n",
       "      <td>0</td>\n",
       "      <td>...</td>\n",
       "      <td>m</td>\n",
       "      <td>NaN</td>\n",
       "      <td>no</td>\n",
       "      <td>no</td>\n",
       "      <td>Iraq</td>\n",
       "      <td>no</td>\n",
       "      <td>1</td>\n",
       "      <td>'18 and more'</td>\n",
       "      <td>NaN</td>\n",
       "      <td>NO</td>\n",
       "    </tr>\n",
       "    <tr>\n",
       "      <th>701</th>\n",
       "      <td>1</td>\n",
       "      <td>0</td>\n",
       "      <td>1</td>\n",
       "      <td>1</td>\n",
       "      <td>1</td>\n",
       "      <td>0</td>\n",
       "      <td>1</td>\n",
       "      <td>1</td>\n",
       "      <td>0</td>\n",
       "      <td>1</td>\n",
       "      <td>...</td>\n",
       "      <td>f</td>\n",
       "      <td>NaN</td>\n",
       "      <td>no</td>\n",
       "      <td>no</td>\n",
       "      <td>Russia</td>\n",
       "      <td>no</td>\n",
       "      <td>7</td>\n",
       "      <td>'18 and more'</td>\n",
       "      <td>NaN</td>\n",
       "      <td>YES</td>\n",
       "    </tr>\n",
       "  </tbody>\n",
       "</table>\n",
       "<p>95 rows × 21 columns</p>\n",
       "</div>"
      ],
      "text/plain": [
       "     A1_Score  A2_Score  A3_Score  A4_Score  A5_Score  A6_Score  A7_Score  \\\n",
       "4           1         0         0         0         0         0         0   \n",
       "12          0         1         1         1         1         1         0   \n",
       "13          1         0         0         0         0         0         1   \n",
       "14          1         0         0         0         0         0         1   \n",
       "19          0         0         0         0         0         0         1   \n",
       "..        ...       ...       ...       ...       ...       ...       ...   \n",
       "652         0         0         0         0         0         0         0   \n",
       "658         0         0         1         1         0         0         1   \n",
       "659         1         1         1         1         1         1         0   \n",
       "666         0         0         0         0         0         0         0   \n",
       "701         1         0         1         1         1         0         1   \n",
       "\n",
       "     A8_Score  A9_Score  A10_Score  ... gender ethnicity jundice austim  \\\n",
       "4           1         0          0  ...      f       NaN      no     no   \n",
       "12          0         1          0  ...      f       NaN      no     no   \n",
       "13          1         0          1  ...      m       NaN      no     no   \n",
       "14          1         0          1  ...      f       NaN      no     no   \n",
       "19          1         0          1  ...      m       NaN     yes     no   \n",
       "..        ...       ...        ...  ...    ...       ...     ...    ...   \n",
       "652         0         0          1  ...      f       NaN      no     no   \n",
       "658         0         0          0  ...      m       NaN      no     no   \n",
       "659         0         1          1  ...      m       NaN      no     no   \n",
       "666         1         0          0  ...      m       NaN      no     no   \n",
       "701         1         0          1  ...      f       NaN      no     no   \n",
       "\n",
       "              contry_of_res used_app_before result numeric       age_desc  \\\n",
       "4                     Egypt              no              2  '18 and more'   \n",
       "12                  Bahamas              no              6  '18 and more'   \n",
       "13                  Austria              no              4  '18 and more'   \n",
       "14                Argentina              no              4  '18 and more'   \n",
       "19   'United Arab Emirates'              no              3  '18 and more'   \n",
       "..                      ...             ...            ...            ...   \n",
       "652         'United States'              no              1  '18 and more'   \n",
       "658              Azerbaijan              no              3  '18 and more'   \n",
       "659                Pakistan              no              8  '18 and more'   \n",
       "666                    Iraq              no              1  '18 and more'   \n",
       "701                  Russia              no              7  '18 and more'   \n",
       "\n",
       "    relation Class_ASD  \n",
       "4        NaN        NO  \n",
       "12       NaN        NO  \n",
       "13       NaN        NO  \n",
       "14       NaN        NO  \n",
       "19       NaN        NO  \n",
       "..       ...       ...  \n",
       "652      NaN        NO  \n",
       "658      NaN        NO  \n",
       "659      NaN       YES  \n",
       "666      NaN        NO  \n",
       "701      NaN       YES  \n",
       "\n",
       "[95 rows x 21 columns]"
      ]
     },
     "execution_count": 14,
     "metadata": {},
     "output_type": "execute_result"
    }
   ],
   "source": [
    "df[df['relation'].isna()]"
   ]
  },
  {
   "cell_type": "code",
   "execution_count": 15,
   "id": "099bb161",
   "metadata": {},
   "outputs": [],
   "source": [
    "df=df.dropna()"
   ]
  },
  {
   "cell_type": "code",
   "execution_count": 16,
   "id": "be080bb4",
   "metadata": {},
   "outputs": [
    {
     "data": {
      "text/html": [
       "<div>\n",
       "<style scoped>\n",
       "    .dataframe tbody tr th:only-of-type {\n",
       "        vertical-align: middle;\n",
       "    }\n",
       "\n",
       "    .dataframe tbody tr th {\n",
       "        vertical-align: top;\n",
       "    }\n",
       "\n",
       "    .dataframe thead th {\n",
       "        text-align: right;\n",
       "    }\n",
       "</style>\n",
       "<table border=\"1\" class=\"dataframe\">\n",
       "  <thead>\n",
       "    <tr style=\"text-align: right;\">\n",
       "      <th></th>\n",
       "      <th>A1_Score</th>\n",
       "      <th>A2_Score</th>\n",
       "      <th>A3_Score</th>\n",
       "      <th>A4_Score</th>\n",
       "      <th>A5_Score</th>\n",
       "      <th>A6_Score</th>\n",
       "      <th>A7_Score</th>\n",
       "      <th>A8_Score</th>\n",
       "      <th>A9_Score</th>\n",
       "      <th>A10_Score</th>\n",
       "      <th>...</th>\n",
       "      <th>gender</th>\n",
       "      <th>ethnicity</th>\n",
       "      <th>jundice</th>\n",
       "      <th>austim</th>\n",
       "      <th>contry_of_res</th>\n",
       "      <th>used_app_before</th>\n",
       "      <th>result numeric</th>\n",
       "      <th>age_desc</th>\n",
       "      <th>relation</th>\n",
       "      <th>Class_ASD</th>\n",
       "    </tr>\n",
       "  </thead>\n",
       "  <tbody>\n",
       "    <tr>\n",
       "      <th>0</th>\n",
       "      <td>1</td>\n",
       "      <td>1</td>\n",
       "      <td>1</td>\n",
       "      <td>1</td>\n",
       "      <td>0</td>\n",
       "      <td>0</td>\n",
       "      <td>1</td>\n",
       "      <td>1</td>\n",
       "      <td>0</td>\n",
       "      <td>0</td>\n",
       "      <td>...</td>\n",
       "      <td>f</td>\n",
       "      <td>White-European</td>\n",
       "      <td>no</td>\n",
       "      <td>no</td>\n",
       "      <td>'United States'</td>\n",
       "      <td>no</td>\n",
       "      <td>6</td>\n",
       "      <td>'18 and more'</td>\n",
       "      <td>Self</td>\n",
       "      <td>NO</td>\n",
       "    </tr>\n",
       "    <tr>\n",
       "      <th>1</th>\n",
       "      <td>1</td>\n",
       "      <td>1</td>\n",
       "      <td>0</td>\n",
       "      <td>1</td>\n",
       "      <td>0</td>\n",
       "      <td>0</td>\n",
       "      <td>0</td>\n",
       "      <td>1</td>\n",
       "      <td>0</td>\n",
       "      <td>1</td>\n",
       "      <td>...</td>\n",
       "      <td>m</td>\n",
       "      <td>Latino</td>\n",
       "      <td>no</td>\n",
       "      <td>yes</td>\n",
       "      <td>Brazil</td>\n",
       "      <td>no</td>\n",
       "      <td>5</td>\n",
       "      <td>'18 and more'</td>\n",
       "      <td>Self</td>\n",
       "      <td>NO</td>\n",
       "    </tr>\n",
       "    <tr>\n",
       "      <th>2</th>\n",
       "      <td>1</td>\n",
       "      <td>1</td>\n",
       "      <td>0</td>\n",
       "      <td>1</td>\n",
       "      <td>1</td>\n",
       "      <td>0</td>\n",
       "      <td>1</td>\n",
       "      <td>1</td>\n",
       "      <td>1</td>\n",
       "      <td>1</td>\n",
       "      <td>...</td>\n",
       "      <td>m</td>\n",
       "      <td>Latino</td>\n",
       "      <td>yes</td>\n",
       "      <td>yes</td>\n",
       "      <td>Spain</td>\n",
       "      <td>no</td>\n",
       "      <td>8</td>\n",
       "      <td>'18 and more'</td>\n",
       "      <td>Parent</td>\n",
       "      <td>YES</td>\n",
       "    </tr>\n",
       "    <tr>\n",
       "      <th>3</th>\n",
       "      <td>1</td>\n",
       "      <td>1</td>\n",
       "      <td>0</td>\n",
       "      <td>1</td>\n",
       "      <td>0</td>\n",
       "      <td>0</td>\n",
       "      <td>1</td>\n",
       "      <td>1</td>\n",
       "      <td>0</td>\n",
       "      <td>1</td>\n",
       "      <td>...</td>\n",
       "      <td>f</td>\n",
       "      <td>White-European</td>\n",
       "      <td>no</td>\n",
       "      <td>yes</td>\n",
       "      <td>'United States'</td>\n",
       "      <td>no</td>\n",
       "      <td>6</td>\n",
       "      <td>'18 and more'</td>\n",
       "      <td>Self</td>\n",
       "      <td>NO</td>\n",
       "    </tr>\n",
       "    <tr>\n",
       "      <th>5</th>\n",
       "      <td>1</td>\n",
       "      <td>1</td>\n",
       "      <td>1</td>\n",
       "      <td>1</td>\n",
       "      <td>1</td>\n",
       "      <td>0</td>\n",
       "      <td>1</td>\n",
       "      <td>1</td>\n",
       "      <td>1</td>\n",
       "      <td>1</td>\n",
       "      <td>...</td>\n",
       "      <td>m</td>\n",
       "      <td>Others</td>\n",
       "      <td>yes</td>\n",
       "      <td>no</td>\n",
       "      <td>'United States'</td>\n",
       "      <td>no</td>\n",
       "      <td>9</td>\n",
       "      <td>'18 and more'</td>\n",
       "      <td>Self</td>\n",
       "      <td>YES</td>\n",
       "    </tr>\n",
       "    <tr>\n",
       "      <th>...</th>\n",
       "      <td>...</td>\n",
       "      <td>...</td>\n",
       "      <td>...</td>\n",
       "      <td>...</td>\n",
       "      <td>...</td>\n",
       "      <td>...</td>\n",
       "      <td>...</td>\n",
       "      <td>...</td>\n",
       "      <td>...</td>\n",
       "      <td>...</td>\n",
       "      <td>...</td>\n",
       "      <td>...</td>\n",
       "      <td>...</td>\n",
       "      <td>...</td>\n",
       "      <td>...</td>\n",
       "      <td>...</td>\n",
       "      <td>...</td>\n",
       "      <td>...</td>\n",
       "      <td>...</td>\n",
       "      <td>...</td>\n",
       "      <td>...</td>\n",
       "    </tr>\n",
       "    <tr>\n",
       "      <th>698</th>\n",
       "      <td>1</td>\n",
       "      <td>1</td>\n",
       "      <td>1</td>\n",
       "      <td>1</td>\n",
       "      <td>1</td>\n",
       "      <td>1</td>\n",
       "      <td>1</td>\n",
       "      <td>1</td>\n",
       "      <td>1</td>\n",
       "      <td>1</td>\n",
       "      <td>...</td>\n",
       "      <td>f</td>\n",
       "      <td>Pasifika</td>\n",
       "      <td>no</td>\n",
       "      <td>no</td>\n",
       "      <td>Australia</td>\n",
       "      <td>no</td>\n",
       "      <td>10</td>\n",
       "      <td>'18 and more'</td>\n",
       "      <td>Self</td>\n",
       "      <td>YES</td>\n",
       "    </tr>\n",
       "    <tr>\n",
       "      <th>699</th>\n",
       "      <td>0</td>\n",
       "      <td>1</td>\n",
       "      <td>0</td>\n",
       "      <td>1</td>\n",
       "      <td>1</td>\n",
       "      <td>0</td>\n",
       "      <td>1</td>\n",
       "      <td>1</td>\n",
       "      <td>1</td>\n",
       "      <td>1</td>\n",
       "      <td>...</td>\n",
       "      <td>f</td>\n",
       "      <td>White-European</td>\n",
       "      <td>no</td>\n",
       "      <td>no</td>\n",
       "      <td>Russia</td>\n",
       "      <td>no</td>\n",
       "      <td>7</td>\n",
       "      <td>'18 and more'</td>\n",
       "      <td>Self</td>\n",
       "      <td>YES</td>\n",
       "    </tr>\n",
       "    <tr>\n",
       "      <th>700</th>\n",
       "      <td>1</td>\n",
       "      <td>0</td>\n",
       "      <td>0</td>\n",
       "      <td>0</td>\n",
       "      <td>0</td>\n",
       "      <td>0</td>\n",
       "      <td>0</td>\n",
       "      <td>1</td>\n",
       "      <td>0</td>\n",
       "      <td>1</td>\n",
       "      <td>...</td>\n",
       "      <td>m</td>\n",
       "      <td>Hispanic</td>\n",
       "      <td>no</td>\n",
       "      <td>no</td>\n",
       "      <td>Mexico</td>\n",
       "      <td>no</td>\n",
       "      <td>3</td>\n",
       "      <td>'18 and more'</td>\n",
       "      <td>Parent</td>\n",
       "      <td>NO</td>\n",
       "    </tr>\n",
       "    <tr>\n",
       "      <th>702</th>\n",
       "      <td>1</td>\n",
       "      <td>0</td>\n",
       "      <td>0</td>\n",
       "      <td>1</td>\n",
       "      <td>1</td>\n",
       "      <td>0</td>\n",
       "      <td>1</td>\n",
       "      <td>0</td>\n",
       "      <td>1</td>\n",
       "      <td>1</td>\n",
       "      <td>...</td>\n",
       "      <td>m</td>\n",
       "      <td>'South Asian'</td>\n",
       "      <td>no</td>\n",
       "      <td>no</td>\n",
       "      <td>Pakistan</td>\n",
       "      <td>no</td>\n",
       "      <td>6</td>\n",
       "      <td>'18 and more'</td>\n",
       "      <td>Self</td>\n",
       "      <td>NO</td>\n",
       "    </tr>\n",
       "    <tr>\n",
       "      <th>703</th>\n",
       "      <td>1</td>\n",
       "      <td>0</td>\n",
       "      <td>1</td>\n",
       "      <td>1</td>\n",
       "      <td>1</td>\n",
       "      <td>0</td>\n",
       "      <td>1</td>\n",
       "      <td>1</td>\n",
       "      <td>1</td>\n",
       "      <td>1</td>\n",
       "      <td>...</td>\n",
       "      <td>f</td>\n",
       "      <td>White-European</td>\n",
       "      <td>no</td>\n",
       "      <td>no</td>\n",
       "      <td>Cyprus</td>\n",
       "      <td>no</td>\n",
       "      <td>8</td>\n",
       "      <td>'18 and more'</td>\n",
       "      <td>Self</td>\n",
       "      <td>YES</td>\n",
       "    </tr>\n",
       "  </tbody>\n",
       "</table>\n",
       "<p>609 rows × 21 columns</p>\n",
       "</div>"
      ],
      "text/plain": [
       "     A1_Score  A2_Score  A3_Score  A4_Score  A5_Score  A6_Score  A7_Score  \\\n",
       "0           1         1         1         1         0         0         1   \n",
       "1           1         1         0         1         0         0         0   \n",
       "2           1         1         0         1         1         0         1   \n",
       "3           1         1         0         1         0         0         1   \n",
       "5           1         1         1         1         1         0         1   \n",
       "..        ...       ...       ...       ...       ...       ...       ...   \n",
       "698         1         1         1         1         1         1         1   \n",
       "699         0         1         0         1         1         0         1   \n",
       "700         1         0         0         0         0         0         0   \n",
       "702         1         0         0         1         1         0         1   \n",
       "703         1         0         1         1         1         0         1   \n",
       "\n",
       "     A8_Score  A9_Score  A10_Score  ... gender       ethnicity jundice austim  \\\n",
       "0           1         0          0  ...      f  White-European      no     no   \n",
       "1           1         0          1  ...      m          Latino      no    yes   \n",
       "2           1         1          1  ...      m          Latino     yes    yes   \n",
       "3           1         0          1  ...      f  White-European      no    yes   \n",
       "5           1         1          1  ...      m          Others     yes     no   \n",
       "..        ...       ...        ...  ...    ...             ...     ...    ...   \n",
       "698         1         1          1  ...      f        Pasifika      no     no   \n",
       "699         1         1          1  ...      f  White-European      no     no   \n",
       "700         1         0          1  ...      m        Hispanic      no     no   \n",
       "702         0         1          1  ...      m   'South Asian'      no     no   \n",
       "703         1         1          1  ...      f  White-European      no     no   \n",
       "\n",
       "       contry_of_res used_app_before result numeric       age_desc relation  \\\n",
       "0    'United States'              no              6  '18 and more'     Self   \n",
       "1             Brazil              no              5  '18 and more'     Self   \n",
       "2              Spain              no              8  '18 and more'   Parent   \n",
       "3    'United States'              no              6  '18 and more'     Self   \n",
       "5    'United States'              no              9  '18 and more'     Self   \n",
       "..               ...             ...            ...            ...      ...   \n",
       "698        Australia              no             10  '18 and more'     Self   \n",
       "699           Russia              no              7  '18 and more'     Self   \n",
       "700           Mexico              no              3  '18 and more'   Parent   \n",
       "702         Pakistan              no              6  '18 and more'     Self   \n",
       "703           Cyprus              no              8  '18 and more'     Self   \n",
       "\n",
       "    Class_ASD  \n",
       "0          NO  \n",
       "1          NO  \n",
       "2         YES  \n",
       "3          NO  \n",
       "5         YES  \n",
       "..        ...  \n",
       "698       YES  \n",
       "699       YES  \n",
       "700        NO  \n",
       "702        NO  \n",
       "703       YES  \n",
       "\n",
       "[609 rows x 21 columns]"
      ]
     },
     "execution_count": 16,
     "metadata": {},
     "output_type": "execute_result"
    }
   ],
   "source": [
    "df"
   ]
  },
  {
   "cell_type": "code",
   "execution_count": 17,
   "id": "63f81074",
   "metadata": {},
   "outputs": [
    {
     "name": "stdout",
     "output_type": "stream",
     "text": [
      "NO     429\n",
      "YES    180\n",
      "Name: Class_ASD, dtype: int64\n"
     ]
    },
    {
     "data": {
      "image/png": "[encoded data removed]",
      "text/plain": [
       "<Figure size 432x288 with 1 Axes>"
      ]
     },
     "metadata": {
      "needs_background": "light"
     },
     "output_type": "display_data"
    }
   ],
   "source": [
    "sns.countplot(data = df,y='Class_ASD')\n",
    "print(df['Class_ASD'].value_counts())"
   ]
  },
  {
   "cell_type": "code",
   "execution_count": 18,
   "id": "56be61eb",
   "metadata": {
    "run_control": {
     "marked": true
    }
   },
   "outputs": [
    {
     "data": {
      "text/plain": [
       "array([\"'United States'\", 'Brazil', 'Spain', \"'New Zealand'\", 'Bahamas',\n",
       "       'Burundi', 'Jordan', 'Ireland', \"'United Arab Emirates'\",\n",
       "       'Afghanistan', \"'United Kingdom'\", \"'South Africa'\", 'Italy',\n",
       "       'Pakistan', 'Egypt', 'Bangladesh', 'Chile', 'France', 'China',\n",
       "       'Australia', 'Canada', \"'Saudi Arabia'\", 'Netherlands', 'Romania',\n",
       "       'Sweden', 'Tonga', 'Oman', 'India', 'Philippines', \"'Sri Lanka'\",\n",
       "       \"'Sierra Leone'\", 'Ethiopia', \"'Viet Nam'\", 'Iran', \"'Costa Rica'\",\n",
       "       'Germany', 'Mexico', 'Armenia', 'Iceland', 'Nicaragua', 'Austria',\n",
       "       'Russia', 'AmericanSamoa', 'Uruguay', 'Ukraine', 'Serbia',\n",
       "       'Portugal', 'Malaysia', 'Ecuador', 'Niger', 'Belgium', 'Bolivia',\n",
       "       'Aruba', 'Finland', 'Turkey', 'Nepal', 'Indonesia', 'Angola',\n",
       "       \"'Czech Republic'\", 'Cyprus'], dtype=object)"
      ]
     },
     "execution_count": 18,
     "metadata": {},
     "output_type": "execute_result"
    }
   ],
   "source": [
    "df['contry_of_res'].unique()"
   ]
  },
  {
   "cell_type": "code",
   "execution_count": 19,
   "id": "61aa9df5",
   "metadata": {},
   "outputs": [],
   "source": [
    "def substitute_str(x): \n",
    "    \"\"\"\n",
    "    This function returns the string \n",
    "    by removing the extra inverted commas\n",
    "   \n",
    "    \"\"\"\n",
    "    return re.sub('\\W','',x)"
   ]
  },
  {
   "cell_type": "code",
   "execution_count": 20,
   "id": "66441be3",
   "metadata": {},
   "outputs": [
    {
     "data": {
      "text/plain": [
       "array(['UnitedStates', 'Brazil', 'Spain', 'NewZealand', 'Bahamas',\n",
       "       'Burundi', 'Jordan', 'Ireland', 'UnitedArabEmirates',\n",
       "       'Afghanistan', 'UnitedKingdom', 'SouthAfrica', 'Italy', 'Pakistan',\n",
       "       'Egypt', 'Bangladesh', 'Chile', 'France', 'China', 'Australia',\n",
       "       'Canada', 'SaudiArabia', 'Netherlands', 'Romania', 'Sweden',\n",
       "       'Tonga', 'Oman', 'India', 'Philippines', 'SriLanka', 'SierraLeone',\n",
       "       'Ethiopia', 'VietNam', 'Iran', 'CostaRica', 'Germany', 'Mexico',\n",
       "       'Armenia', 'Iceland', 'Nicaragua', 'Austria', 'Russia',\n",
       "       'AmericanSamoa', 'Uruguay', 'Ukraine', 'Serbia', 'Portugal',\n",
       "       'Malaysia', 'Ecuador', 'Niger', 'Belgium', 'Bolivia', 'Aruba',\n",
       "       'Finland', 'Turkey', 'Nepal', 'Indonesia', 'Angola',\n",
       "       'CzechRepublic', 'Cyprus'], dtype=object)"
      ]
     },
     "execution_count": 20,
     "metadata": {},
     "output_type": "execute_result"
    }
   ],
   "source": [
    "df['contry_of_res'] = df['contry_of_res'].apply(substitute_str)\n",
    "df['contry_of_res'].unique()"
   ]
  },
  {
   "cell_type": "code",
   "execution_count": 21,
   "id": "19c20d92",
   "metadata": {},
   "outputs": [],
   "source": [
    "import matplotlib.pyplot as plt\n",
    "import seaborn as sns\n",
    "\n",
    "def display_count_plots(df, columns):\n",
    "    for col in columns:\n",
    "        sns.countplot(x=col, data=df)\n",
    "        plt.show()\n"
   ]
  },
  {
   "cell_type": "code",
   "execution_count": 22,
   "id": "3fbf5d6c",
   "metadata": {},
   "outputs": [],
   "source": [
    "columns=list(df.columns)\n",
    "columns.remove('age numeric')\n",
    "columns.remove('ethnicity')\n",
    "columns.remove('contry_of_res')"
   ]
  },
  {
   "cell_type": "code",
   "execution_count": 23,
   "id": "492ca2a7",
   "metadata": {
    "scrolled": false
   },
   "outputs": [
    {
     "data": {
      "image/png": "[encoded data removed]",
      "text/plain": [
       "<Figure size 432x288 with 1 Axes>"
      ]
     },
     "metadata": {
      "needs_background": "light"
     },
     "output_type": "display_data"
    },
    {
     "data": {
      "image/png": "[encoded data removed]",
      "text/plain": [
       "<Figure size 432x288 with 1 Axes>"
      ]
     },
     "metadata": {
      "needs_background": "light"
     },
     "output_type": "display_data"
    },
    {
     "data": {
      "image/png": "[encoded data removed]",
      "text/plain": [
       "<Figure size 432x288 with 1 Axes>"
      ]
     },
     "metadata": {
      "needs_background": "light"
     },
     "output_type": "display_data"
    },
    {
     "data": {
      "image/png": "[encoded data removed]",
      "text/plain": [
       "<Figure size 432x288 with 1 Axes>"
      ]
     },
     "metadata": {
      "needs_background": "light"
     },
     "output_type": "display_data"
    },
    {
     "data": {
      "image/png": "[encoded data removed]",
      "text/plain": [
       "<Figure size 432x288 with 1 Axes>"
      ]
     },
     "metadata": {
      "needs_background": "light"
     },
     "output_type": "display_data"
    },
    {
     "data": {
      "image/png": "[encoded data removed]",
      "text/plain": [
       "<Figure size 432x288 with 1 Axes>"
      ]
     },
     "metadata": {
      "needs_background": "light"
     },
     "output_type": "display_data"
    },
    {
     "data": {
      "image/png": "[encoded data removed]",
      "text/plain": [
       "<Figure size 432x288 with 1 Axes>"
      ]
     },
     "metadata": {
      "needs_background": "light"
     },
     "output_type": "display_data"
    },
    {
     "data": {
      "image/png": "[encoded data removed]",
      "text/plain": [
       "<Figure size 432x288 with 1 Axes>"
      ]
     },
     "metadata": {
      "needs_background": "light"
     },
     "output_type": "display_data"
    },
    {
     "data": {
      "image/png": "[encoded data removed]",
      "text/plain": [
       "<Figure size 432x288 with 1 Axes>"
      ]
     },
     "metadata": {
      "needs_background": "light"
     },
     "output_type": "display_data"
    },
    {
     "data": {
      "image/png": "[encoded data removed]",
      "text/plain": [
       "<Figure size 432x288 with 1 Axes>"
      ]
     },
     "metadata": {
      "needs_background": "light"
     },
     "output_type": "display_data"
    },
    {
     "data": {
      "image/png": "[encoded data removed]",
      "text/plain": [
       "<Figure size 432x288 with 1 Axes>"
      ]
     },
     "metadata": {
      "needs_background": "light"
     },
     "output_type": "display_data"
    },
    {
     "data": {
      "image/png": "[encoded data removed]",
      "text/plain": [
       "<Figure size 432x288 with 1 Axes>"
      ]
     },
     "metadata": {
      "needs_background": "light"
     },
     "output_type": "display_data"
    },
    {
     "data": {
      "image/png": "[encoded data removed]",
      "text/plain": [
       "<Figure size 432x288 with 1 Axes>"
      ]
     },
     "metadata": {
      "needs_background": "light"
     },
     "output_type": "display_data"
    },
    {
     "data": {
      "image/png": "[encoded data removed]",
      "text/plain": [
       "<Figure size 432x288 with 1 Axes>"
      ]
     },
     "metadata": {
      "needs_background": "light"
     },
     "output_type": "display_data"
    },
    {
     "data": {
      "image/png": "[encoded data removed]",
      "text/plain": [
       "<Figure size 432x288 with 1 Axes>"
      ]
     },
     "metadata": {
      "needs_background": "light"
     },
     "output_type": "display_data"
    },
    {
     "data": {
      "image/png": "[encoded data removed]",
      "text/plain": [
       "<Figure size 432x288 with 1 Axes>"
      ]
     },
     "metadata": {
      "needs_background": "light"
     },
     "output_type": "display_data"
    },
    {
     "data": {
      "image/png": "[encoded data removed]",
      "text/plain": [
       "<Figure size 432x288 with 1 Axes>"
      ]
     },
     "metadata": {
      "needs_background": "light"
     },
     "output_type": "display_data"
    },
    {
     "data": {
      "image/png": "[encoded data removed]",
      "text/plain": [
       "<Figure size 432x288 with 1 Axes>"
      ]
     },
     "metadata": {
      "needs_background": "light"
     },
     "output_type": "display_data"
    }
   ],
   "source": [
    "display_count_plots(df,columns)"
   ]
  },
  {
   "cell_type": "code",
   "execution_count": 24,
   "id": "0130fa18",
   "metadata": {},
   "outputs": [
    {
     "data": {
      "text/plain": [
       "A1_Score            int64\n",
       "A2_Score            int64\n",
       "A3_Score            int64\n",
       "A4_Score            int64\n",
       "A5_Score            int64\n",
       "A6_Score            int64\n",
       "A7_Score            int64\n",
       "A8_Score            int64\n",
       "A9_Score            int64\n",
       "A10_Score           int64\n",
       "age numeric        object\n",
       "gender             object\n",
       "ethnicity          object\n",
       "jundice            object\n",
       "austim             object\n",
       "contry_of_res      object\n",
       "used_app_before    object\n",
       "result numeric      int64\n",
       "age_desc           object\n",
       "relation           object\n",
       "Class_ASD          object\n",
       "dtype: object"
      ]
     },
     "execution_count": 24,
     "metadata": {},
     "output_type": "execute_result"
    }
   ],
   "source": [
    "df.dtypes"
   ]
  },
  {
   "cell_type": "code",
   "execution_count": null,
   "id": "c05f6191",
   "metadata": {},
   "outputs": [],
   "source": []
  },
  {
   "cell_type": "code",
   "execution_count": null,
   "id": "83848fa9",
   "metadata": {},
   "outputs": [],
   "source": []
  },
  {
   "cell_type": "markdown",
   "id": "cf4ed95f",
   "metadata": {},
   "source": [
    "### Count Plot for Numeric dtypes "
   ]
  },
  {
   "cell_type": "code",
   "execution_count": 25,
   "id": "5dbe6512",
   "metadata": {
    "scrolled": false
   },
   "outputs": [
    {
     "data": {
      "image/png": "[encoded data removed]",
      "text/plain": [
       "<Figure size 720x360 with 2 Axes>"
      ]
     },
     "metadata": {
      "needs_background": "light"
     },
     "output_type": "display_data"
    },
    {
     "data": {
      "image/png": "[encoded data removed]",
      "text/plain": [
       "<Figure size 720x360 with 2 Axes>"
      ]
     },
     "metadata": {
      "needs_background": "light"
     },
     "output_type": "display_data"
    },
    {
     "data": {
      "image/png": "[encoded data removed]",
      "text/plain": [
       "<Figure size 720x360 with 2 Axes>"
      ]
     },
     "metadata": {
      "needs_background": "light"
     },
     "output_type": "display_data"
    },
    {
     "data": {
      "image/png": "[encoded data removed]",
      "text/plain": [
       "<Figure size 720x360 with 2 Axes>"
      ]
     },
     "metadata": {
      "needs_background": "light"
     },
     "output_type": "display_data"
    },
    {
     "data": {
      "image/png": "[encoded data removed]",
      "text/plain": [
       "<Figure size 720x360 with 2 Axes>"
      ]
     },
     "metadata": {
      "needs_background": "light"
     },
     "output_type": "display_data"
    },
    {
     "data": {
      "image/png": "[encoded data removed]",
      "text/plain": [
       "<Figure size 720x360 with 2 Axes>"
      ]
     },
     "metadata": {
      "needs_background": "light"
     },
     "output_type": "display_data"
    },
    {
     "data": {
      "image/png": "[encoded data removed]",
      "text/plain": [
       "<Figure size 720x360 with 2 Axes>"
      ]
     },
     "metadata": {
      "needs_background": "light"
     },
     "output_type": "display_data"
    },
    {
     "data": {
      "image/png": "[encoded data removed]",
      "text/plain": [
       "<Figure size 720x360 with 2 Axes>"
      ]
     },
     "metadata": {
      "needs_background": "light"
     },
     "output_type": "display_data"
    },
    {
     "data": {
      "image/png": "[encoded data removed]",
      "text/plain": [
       "<Figure size 720x360 with 2 Axes>"
      ]
     },
     "metadata": {
      "needs_background": "light"
     },
     "output_type": "display_data"
    },
    {
     "data": {
      "image/png": "[encoded data removed]",
      "text/plain": [
       "<Figure size 720x360 with 2 Axes>"
      ]
     },
     "metadata": {
      "needs_background": "light"
     },
     "output_type": "display_data"
    }
   ],
   "source": [
    "for col in num_df:\n",
    "    if df[col].nunique() <= 4:\n",
    "        g = sns.catplot(x = col, kind='count', col = 'Class_ASD', data=df, sharey=False,palette='Blues')\n",
    "        g.set_xticklabels(rotation=60)\n",
    "    "
   ]
  },
  {
   "cell_type": "markdown",
   "id": "34381b43",
   "metadata": {},
   "source": [
    "\n",
    "### Count Plot for Object dtypes \n"
   ]
  },
  {
   "cell_type": "code",
   "execution_count": 26,
   "id": "d22aa527",
   "metadata": {
    "scrolled": false
   },
   "outputs": [
    {
     "data": {
      "image/png": "[encoded data removed]",
      "text/plain": [
       "<Figure size 720x360 with 2 Axes>"
      ]
     },
     "metadata": {
      "needs_background": "light"
     },
     "output_type": "display_data"
    },
    {
     "data": {
      "image/png": "[encoded data removed]",
      "text/plain": [
       "<Figure size 720x360 with 2 Axes>"
      ]
     },
     "metadata": {
      "needs_background": "light"
     },
     "output_type": "display_data"
    },
    {
     "data": {
      "image/png": "[encoded data removed]",
      "text/plain": [
       "<Figure size 720x360 with 2 Axes>"
      ]
     },
     "metadata": {
      "needs_background": "light"
     },
     "output_type": "display_data"
    },
    {
     "data": {
      "image/png": "[encoded data removed]",
      "text/plain": [
       "<Figure size 720x360 with 2 Axes>"
      ]
     },
     "metadata": {
      "needs_background": "light"
     },
     "output_type": "display_data"
    },
    {
     "data": {
      "image/png": "[encoded data removed]",
      "text/plain": [
       "<Figure size 720x360 with 2 Axes>"
      ]
     },
     "metadata": {
      "needs_background": "light"
     },
     "output_type": "display_data"
    },
    {
     "data": {
      "image/png": "[encoded data removed]",
      "text/plain": [
       "<Figure size 720x360 with 2 Axes>"
      ]
     },
     "metadata": {
      "needs_background": "light"
     },
     "output_type": "display_data"
    }
   ],
   "source": [
    "#sns.color_palette(\"icefire\", as_cmap=True)\n",
    "for col in df.select_dtypes(include='object'):\n",
    "    if df[col].nunique() <= 4:\n",
    "        g = sns.catplot(x = col, kind='count', col = 'Class_ASD', data=df, sharey=False,palette='Spectral')\n",
    "        g.set_xticklabels(rotation=60)"
   ]
  },
  {
   "cell_type": "code",
   "execution_count": 27,
   "id": "0f5bea16",
   "metadata": {
    "scrolled": false
   },
   "outputs": [
    {
     "data": {
      "text/html": [
       "<div>\n",
       "<style scoped>\n",
       "    .dataframe tbody tr th:only-of-type {\n",
       "        vertical-align: middle;\n",
       "    }\n",
       "\n",
       "    .dataframe tbody tr th {\n",
       "        vertical-align: top;\n",
       "    }\n",
       "\n",
       "    .dataframe thead th {\n",
       "        text-align: right;\n",
       "    }\n",
       "</style>\n",
       "<table border=\"1\" class=\"dataframe\">\n",
       "  <thead>\n",
       "    <tr style=\"text-align: right;\">\n",
       "      <th></th>\n",
       "      <th>A1_Score</th>\n",
       "      <th>A2_Score</th>\n",
       "      <th>A3_Score</th>\n",
       "      <th>A4_Score</th>\n",
       "      <th>A5_Score</th>\n",
       "      <th>A6_Score</th>\n",
       "      <th>A7_Score</th>\n",
       "      <th>A8_Score</th>\n",
       "      <th>A9_Score</th>\n",
       "      <th>A10_Score</th>\n",
       "      <th>result numeric</th>\n",
       "    </tr>\n",
       "  </thead>\n",
       "  <tbody>\n",
       "    <tr>\n",
       "      <th>count</th>\n",
       "      <td>609.000000</td>\n",
       "      <td>609.000000</td>\n",
       "      <td>609.000000</td>\n",
       "      <td>609.000000</td>\n",
       "      <td>609.000000</td>\n",
       "      <td>609.000000</td>\n",
       "      <td>609.000000</td>\n",
       "      <td>609.000000</td>\n",
       "      <td>609.000000</td>\n",
       "      <td>609.000000</td>\n",
       "      <td>609.000000</td>\n",
       "    </tr>\n",
       "    <tr>\n",
       "      <th>mean</th>\n",
       "      <td>0.740558</td>\n",
       "      <td>0.469622</td>\n",
       "      <td>0.481117</td>\n",
       "      <td>0.520525</td>\n",
       "      <td>0.525452</td>\n",
       "      <td>0.307061</td>\n",
       "      <td>0.428571</td>\n",
       "      <td>0.665025</td>\n",
       "      <td>0.341544</td>\n",
       "      <td>0.597701</td>\n",
       "      <td>5.077176</td>\n",
       "    </tr>\n",
       "    <tr>\n",
       "      <th>std</th>\n",
       "      <td>0.438689</td>\n",
       "      <td>0.499487</td>\n",
       "      <td>0.500054</td>\n",
       "      <td>0.499989</td>\n",
       "      <td>0.499762</td>\n",
       "      <td>0.461654</td>\n",
       "      <td>0.495278</td>\n",
       "      <td>0.472370</td>\n",
       "      <td>0.474617</td>\n",
       "      <td>0.490765</td>\n",
       "      <td>2.522717</td>\n",
       "    </tr>\n",
       "    <tr>\n",
       "      <th>min</th>\n",
       "      <td>0.000000</td>\n",
       "      <td>0.000000</td>\n",
       "      <td>0.000000</td>\n",
       "      <td>0.000000</td>\n",
       "      <td>0.000000</td>\n",
       "      <td>0.000000</td>\n",
       "      <td>0.000000</td>\n",
       "      <td>0.000000</td>\n",
       "      <td>0.000000</td>\n",
       "      <td>0.000000</td>\n",
       "      <td>0.000000</td>\n",
       "    </tr>\n",
       "    <tr>\n",
       "      <th>25%</th>\n",
       "      <td>0.000000</td>\n",
       "      <td>0.000000</td>\n",
       "      <td>0.000000</td>\n",
       "      <td>0.000000</td>\n",
       "      <td>0.000000</td>\n",
       "      <td>0.000000</td>\n",
       "      <td>0.000000</td>\n",
       "      <td>0.000000</td>\n",
       "      <td>0.000000</td>\n",
       "      <td>0.000000</td>\n",
       "      <td>3.000000</td>\n",
       "    </tr>\n",
       "    <tr>\n",
       "      <th>50%</th>\n",
       "      <td>1.000000</td>\n",
       "      <td>0.000000</td>\n",
       "      <td>0.000000</td>\n",
       "      <td>1.000000</td>\n",
       "      <td>1.000000</td>\n",
       "      <td>0.000000</td>\n",
       "      <td>0.000000</td>\n",
       "      <td>1.000000</td>\n",
       "      <td>0.000000</td>\n",
       "      <td>1.000000</td>\n",
       "      <td>5.000000</td>\n",
       "    </tr>\n",
       "    <tr>\n",
       "      <th>75%</th>\n",
       "      <td>1.000000</td>\n",
       "      <td>1.000000</td>\n",
       "      <td>1.000000</td>\n",
       "      <td>1.000000</td>\n",
       "      <td>1.000000</td>\n",
       "      <td>1.000000</td>\n",
       "      <td>1.000000</td>\n",
       "      <td>1.000000</td>\n",
       "      <td>1.000000</td>\n",
       "      <td>1.000000</td>\n",
       "      <td>7.000000</td>\n",
       "    </tr>\n",
       "    <tr>\n",
       "      <th>max</th>\n",
       "      <td>1.000000</td>\n",
       "      <td>1.000000</td>\n",
       "      <td>1.000000</td>\n",
       "      <td>1.000000</td>\n",
       "      <td>1.000000</td>\n",
       "      <td>1.000000</td>\n",
       "      <td>1.000000</td>\n",
       "      <td>1.000000</td>\n",
       "      <td>1.000000</td>\n",
       "      <td>1.000000</td>\n",
       "      <td>10.000000</td>\n",
       "    </tr>\n",
       "  </tbody>\n",
       "</table>\n",
       "</div>"
      ],
      "text/plain": [
       "         A1_Score    A2_Score    A3_Score    A4_Score    A5_Score    A6_Score  \\\n",
       "count  609.000000  609.000000  609.000000  609.000000  609.000000  609.000000   \n",
       "mean     0.740558    0.469622    0.481117    0.520525    0.525452    0.307061   \n",
       "std      0.438689    0.499487    0.500054    0.499989    0.499762    0.461654   \n",
       "min      0.000000    0.000000    0.000000    0.000000    0.000000    0.000000   \n",
       "25%      0.000000    0.000000    0.000000    0.000000    0.000000    0.000000   \n",
       "50%      1.000000    0.000000    0.000000    1.000000    1.000000    0.000000   \n",
       "75%      1.000000    1.000000    1.000000    1.000000    1.000000    1.000000   \n",
       "max      1.000000    1.000000    1.000000    1.000000    1.000000    1.000000   \n",
       "\n",
       "         A7_Score    A8_Score    A9_Score   A10_Score  result numeric  \n",
       "count  609.000000  609.000000  609.000000  609.000000      609.000000  \n",
       "mean     0.428571    0.665025    0.341544    0.597701        5.077176  \n",
       "std      0.495278    0.472370    0.474617    0.490765        2.522717  \n",
       "min      0.000000    0.000000    0.000000    0.000000        0.000000  \n",
       "25%      0.000000    0.000000    0.000000    0.000000        3.000000  \n",
       "50%      0.000000    1.000000    0.000000    1.000000        5.000000  \n",
       "75%      1.000000    1.000000    1.000000    1.000000        7.000000  \n",
       "max      1.000000    1.000000    1.000000    1.000000       10.000000  "
      ]
     },
     "execution_count": 27,
     "metadata": {},
     "output_type": "execute_result"
    }
   ],
   "source": [
    "df.describe()"
   ]
  },
  {
   "cell_type": "code",
   "execution_count": 28,
   "id": "dd005375",
   "metadata": {},
   "outputs": [
    {
     "data": {
      "text/html": [
       "<div>\n",
       "<style scoped>\n",
       "    .dataframe tbody tr th:only-of-type {\n",
       "        vertical-align: middle;\n",
       "    }\n",
       "\n",
       "    .dataframe tbody tr th {\n",
       "        vertical-align: top;\n",
       "    }\n",
       "\n",
       "    .dataframe thead th {\n",
       "        text-align: right;\n",
       "    }\n",
       "</style>\n",
       "<table border=\"1\" class=\"dataframe\">\n",
       "  <thead>\n",
       "    <tr style=\"text-align: right;\">\n",
       "      <th></th>\n",
       "      <th>age numeric</th>\n",
       "      <th>gender</th>\n",
       "      <th>ethnicity</th>\n",
       "      <th>jundice</th>\n",
       "      <th>austim</th>\n",
       "      <th>contry_of_res</th>\n",
       "      <th>used_app_before</th>\n",
       "      <th>age_desc</th>\n",
       "      <th>relation</th>\n",
       "      <th>Class_ASD</th>\n",
       "    </tr>\n",
       "  </thead>\n",
       "  <tbody>\n",
       "    <tr>\n",
       "      <th>count</th>\n",
       "      <td>609</td>\n",
       "      <td>609</td>\n",
       "      <td>609</td>\n",
       "      <td>609</td>\n",
       "      <td>609</td>\n",
       "      <td>609</td>\n",
       "      <td>609</td>\n",
       "      <td>609</td>\n",
       "      <td>609</td>\n",
       "      <td>609</td>\n",
       "    </tr>\n",
       "    <tr>\n",
       "      <th>unique</th>\n",
       "      <td>46</td>\n",
       "      <td>2</td>\n",
       "      <td>11</td>\n",
       "      <td>2</td>\n",
       "      <td>2</td>\n",
       "      <td>60</td>\n",
       "      <td>2</td>\n",
       "      <td>1</td>\n",
       "      <td>5</td>\n",
       "      <td>2</td>\n",
       "    </tr>\n",
       "    <tr>\n",
       "      <th>top</th>\n",
       "      <td>23</td>\n",
       "      <td>m</td>\n",
       "      <td>White-European</td>\n",
       "      <td>no</td>\n",
       "      <td>no</td>\n",
       "      <td>UnitedStates</td>\n",
       "      <td>no</td>\n",
       "      <td>'18 and more'</td>\n",
       "      <td>Self</td>\n",
       "      <td>NO</td>\n",
       "    </tr>\n",
       "    <tr>\n",
       "      <th>freq</th>\n",
       "      <td>33</td>\n",
       "      <td>321</td>\n",
       "      <td>233</td>\n",
       "      <td>550</td>\n",
       "      <td>524</td>\n",
       "      <td>112</td>\n",
       "      <td>599</td>\n",
       "      <td>609</td>\n",
       "      <td>522</td>\n",
       "      <td>429</td>\n",
       "    </tr>\n",
       "  </tbody>\n",
       "</table>\n",
       "</div>"
      ],
      "text/plain": [
       "       age numeric gender       ethnicity jundice austim contry_of_res  \\\n",
       "count          609    609             609     609    609           609   \n",
       "unique          46      2              11       2      2            60   \n",
       "top             23      m  White-European      no     no  UnitedStates   \n",
       "freq            33    321             233     550    524           112   \n",
       "\n",
       "       used_app_before       age_desc relation Class_ASD  \n",
       "count              609            609      609       609  \n",
       "unique               2              1        5         2  \n",
       "top                 no  '18 and more'     Self        NO  \n",
       "freq               599            609      522       429  "
      ]
     },
     "execution_count": 28,
     "metadata": {},
     "output_type": "execute_result"
    }
   ],
   "source": [
    "\n",
    "df.describe(include='object')"
   ]
  },
  {
   "cell_type": "markdown",
   "id": "0197a817",
   "metadata": {},
   "source": [
    "### Feature Encoding  "
   ]
  },
  {
   "cell_type": "code",
   "execution_count": 29,
   "id": "b5ba6b37",
   "metadata": {},
   "outputs": [],
   "source": [
    "from sklearn.preprocessing import LabelEncoder"
   ]
  },
  {
   "cell_type": "code",
   "execution_count": 30,
   "id": "f2525e05",
   "metadata": {},
   "outputs": [
    {
     "data": {
      "text/plain": [
       "age numeric        object\n",
       "gender             object\n",
       "ethnicity          object\n",
       "jundice            object\n",
       "austim             object\n",
       "contry_of_res      object\n",
       "used_app_before    object\n",
       "age_desc           object\n",
       "relation           object\n",
       "Class_ASD          object\n",
       "dtype: object"
      ]
     },
     "execution_count": 30,
     "metadata": {},
     "output_type": "execute_result"
    }
   ],
   "source": [
    "cat_df.dtypes"
   ]
  },
  {
   "cell_type": "code",
   "execution_count": 31,
   "id": "6a93b049",
   "metadata": {},
   "outputs": [],
   "source": [
    "import joblib"
   ]
  },
  {
   "cell_type": "code",
   "execution_count": 32,
   "id": "52fad035",
   "metadata": {},
   "outputs": [
    {
     "name": "stdout",
     "output_type": "stream",
     "text": [
      "age numeric\n",
      "<class 'str'>\n",
      "gender\n",
      "<class 'str'>\n",
      "ethnicity\n",
      "<class 'str'>\n",
      "jundice\n",
      "<class 'str'>\n",
      "austim\n",
      "<class 'str'>\n",
      "contry_of_res\n",
      "<class 'str'>\n",
      "used_app_before\n",
      "<class 'str'>\n",
      "age_desc\n",
      "<class 'str'>\n",
      "relation\n",
      "<class 'str'>\n",
      "Class_ASD\n",
      "<class 'str'>\n"
     ]
    }
   ],
   "source": [
    "for i in df[categorical]:\n",
    "    x= df[i].name\n",
    "    print(x)\n",
    "    print(type(x))"
   ]
  },
  {
   "cell_type": "code",
   "execution_count": 33,
   "id": "5f326d93",
   "metadata": {},
   "outputs": [
    {
     "data": {
      "text/plain": [
       "Index(['A1_Score', 'A2_Score', 'A3_Score', 'A4_Score', 'A5_Score', 'A6_Score',\n",
       "       'A7_Score', 'A8_Score', 'A9_Score', 'A10_Score', 'age numeric',\n",
       "       'gender', 'ethnicity', 'jundice', 'austim', 'contry_of_res',\n",
       "       'used_app_before', 'result numeric', 'age_desc', 'relation',\n",
       "       'Class_ASD'],\n",
       "      dtype='object')"
      ]
     },
     "execution_count": 33,
     "metadata": {},
     "output_type": "execute_result"
    }
   ],
   "source": [
    "df.columns"
   ]
  },
  {
   "cell_type": "code",
   "execution_count": 34,
   "id": "4c8e1d7b",
   "metadata": {},
   "outputs": [
    {
     "name": "stdout",
     "output_type": "stream",
     "text": [
      "age numeric\n",
      "gender\n",
      "ethnicity\n",
      "jundice\n",
      "austim\n",
      "contry_of_res\n",
      "used_app_before\n",
      "age_desc\n",
      "relation\n",
      "Class_ASD\n"
     ]
    }
   ],
   "source": [
    "for i in df[categorical]:\n",
    "    Label_en =LabelEncoder()\n",
    "    df[i]=Label_en.fit_transform(df[i])\n",
    "    x = df[i].name\n",
    "    joblib.dump(Label_en,f'{x}.joblib',compress=9)\n",
    "    print(x)"
   ]
  },
  {
   "cell_type": "code",
   "execution_count": 35,
   "id": "7eba4e1b",
   "metadata": {},
   "outputs": [
    {
     "data": {
      "text/plain": [
       "<AxesSubplot:>"
      ]
     },
     "execution_count": 35,
     "metadata": {},
     "output_type": "execute_result"
    },
    {
     "data": {
      "image/png": "[encoded data removed]",
      "text/plain": [
       "<Figure size 1440x720 with 2 Axes>"
      ]
     },
     "metadata": {
      "needs_background": "light"
     },
     "output_type": "display_data"
    }
   ],
   "source": [
    "plt.figure(figsize=(20,10))\n",
    "sns.heatmap(df.corr(),annot=True)"
   ]
  },
  {
   "cell_type": "code",
   "execution_count": null,
   "id": "73f1ece9",
   "metadata": {},
   "outputs": [],
   "source": []
  },
  {
   "cell_type": "code",
   "execution_count": 36,
   "id": "1f72b2f4",
   "metadata": {},
   "outputs": [
    {
     "data": {
      "text/html": [
       "<div>\n",
       "<style scoped>\n",
       "    .dataframe tbody tr th:only-of-type {\n",
       "        vertical-align: middle;\n",
       "    }\n",
       "\n",
       "    .dataframe tbody tr th {\n",
       "        vertical-align: top;\n",
       "    }\n",
       "\n",
       "    .dataframe thead th {\n",
       "        text-align: right;\n",
       "    }\n",
       "</style>\n",
       "<table border=\"1\" class=\"dataframe\">\n",
       "  <thead>\n",
       "    <tr style=\"text-align: right;\">\n",
       "      <th></th>\n",
       "      <th>A1_Score</th>\n",
       "      <th>A2_Score</th>\n",
       "      <th>A3_Score</th>\n",
       "      <th>A4_Score</th>\n",
       "      <th>A5_Score</th>\n",
       "      <th>A6_Score</th>\n",
       "      <th>A7_Score</th>\n",
       "      <th>A8_Score</th>\n",
       "      <th>A9_Score</th>\n",
       "      <th>A10_Score</th>\n",
       "      <th>...</th>\n",
       "      <th>gender</th>\n",
       "      <th>ethnicity</th>\n",
       "      <th>jundice</th>\n",
       "      <th>austim</th>\n",
       "      <th>contry_of_res</th>\n",
       "      <th>used_app_before</th>\n",
       "      <th>result numeric</th>\n",
       "      <th>age_desc</th>\n",
       "      <th>relation</th>\n",
       "      <th>Class_ASD</th>\n",
       "    </tr>\n",
       "  </thead>\n",
       "  <tbody>\n",
       "    <tr>\n",
       "      <th>count</th>\n",
       "      <td>609.000000</td>\n",
       "      <td>609.000000</td>\n",
       "      <td>609.000000</td>\n",
       "      <td>609.000000</td>\n",
       "      <td>609.000000</td>\n",
       "      <td>609.000000</td>\n",
       "      <td>609.000000</td>\n",
       "      <td>609.000000</td>\n",
       "      <td>609.000000</td>\n",
       "      <td>609.000000</td>\n",
       "      <td>...</td>\n",
       "      <td>609.000000</td>\n",
       "      <td>609.000000</td>\n",
       "      <td>609.000000</td>\n",
       "      <td>609.000000</td>\n",
       "      <td>609.000000</td>\n",
       "      <td>609.00000</td>\n",
       "      <td>609.000000</td>\n",
       "      <td>609.0</td>\n",
       "      <td>609.000000</td>\n",
       "      <td>609.000000</td>\n",
       "    </tr>\n",
       "    <tr>\n",
       "      <th>mean</th>\n",
       "      <td>0.740558</td>\n",
       "      <td>0.469622</td>\n",
       "      <td>0.481117</td>\n",
       "      <td>0.520525</td>\n",
       "      <td>0.525452</td>\n",
       "      <td>0.307061</td>\n",
       "      <td>0.428571</td>\n",
       "      <td>0.665025</td>\n",
       "      <td>0.341544</td>\n",
       "      <td>0.597701</td>\n",
       "      <td>...</td>\n",
       "      <td>0.527094</td>\n",
       "      <td>4.896552</td>\n",
       "      <td>0.096880</td>\n",
       "      <td>0.139573</td>\n",
       "      <td>39.403941</td>\n",
       "      <td>0.01642</td>\n",
       "      <td>5.077176</td>\n",
       "      <td>0.0</td>\n",
       "      <td>3.738916</td>\n",
       "      <td>0.295567</td>\n",
       "    </tr>\n",
       "    <tr>\n",
       "      <th>std</th>\n",
       "      <td>0.438689</td>\n",
       "      <td>0.499487</td>\n",
       "      <td>0.500054</td>\n",
       "      <td>0.499989</td>\n",
       "      <td>0.499762</td>\n",
       "      <td>0.461654</td>\n",
       "      <td>0.495278</td>\n",
       "      <td>0.472370</td>\n",
       "      <td>0.474617</td>\n",
       "      <td>0.490765</td>\n",
       "      <td>...</td>\n",
       "      <td>0.499676</td>\n",
       "      <td>3.637904</td>\n",
       "      <td>0.296038</td>\n",
       "      <td>0.346828</td>\n",
       "      <td>17.625986</td>\n",
       "      <td>0.12719</td>\n",
       "      <td>2.522717</td>\n",
       "      <td>0.0</td>\n",
       "      <td>0.697137</td>\n",
       "      <td>0.456672</td>\n",
       "    </tr>\n",
       "    <tr>\n",
       "      <th>min</th>\n",
       "      <td>0.000000</td>\n",
       "      <td>0.000000</td>\n",
       "      <td>0.000000</td>\n",
       "      <td>0.000000</td>\n",
       "      <td>0.000000</td>\n",
       "      <td>0.000000</td>\n",
       "      <td>0.000000</td>\n",
       "      <td>0.000000</td>\n",
       "      <td>0.000000</td>\n",
       "      <td>0.000000</td>\n",
       "      <td>...</td>\n",
       "      <td>0.000000</td>\n",
       "      <td>0.000000</td>\n",
       "      <td>0.000000</td>\n",
       "      <td>0.000000</td>\n",
       "      <td>0.000000</td>\n",
       "      <td>0.00000</td>\n",
       "      <td>0.000000</td>\n",
       "      <td>0.0</td>\n",
       "      <td>0.000000</td>\n",
       "      <td>0.000000</td>\n",
       "    </tr>\n",
       "    <tr>\n",
       "      <th>25%</th>\n",
       "      <td>0.000000</td>\n",
       "      <td>0.000000</td>\n",
       "      <td>0.000000</td>\n",
       "      <td>0.000000</td>\n",
       "      <td>0.000000</td>\n",
       "      <td>0.000000</td>\n",
       "      <td>0.000000</td>\n",
       "      <td>0.000000</td>\n",
       "      <td>0.000000</td>\n",
       "      <td>0.000000</td>\n",
       "      <td>...</td>\n",
       "      <td>0.000000</td>\n",
       "      <td>2.000000</td>\n",
       "      <td>0.000000</td>\n",
       "      <td>0.000000</td>\n",
       "      <td>26.000000</td>\n",
       "      <td>0.00000</td>\n",
       "      <td>3.000000</td>\n",
       "      <td>0.0</td>\n",
       "      <td>4.000000</td>\n",
       "      <td>0.000000</td>\n",
       "    </tr>\n",
       "    <tr>\n",
       "      <th>50%</th>\n",
       "      <td>1.000000</td>\n",
       "      <td>0.000000</td>\n",
       "      <td>0.000000</td>\n",
       "      <td>1.000000</td>\n",
       "      <td>1.000000</td>\n",
       "      <td>0.000000</td>\n",
       "      <td>0.000000</td>\n",
       "      <td>1.000000</td>\n",
       "      <td>0.000000</td>\n",
       "      <td>1.000000</td>\n",
       "      <td>...</td>\n",
       "      <td>1.000000</td>\n",
       "      <td>4.000000</td>\n",
       "      <td>0.000000</td>\n",
       "      <td>0.000000</td>\n",
       "      <td>36.000000</td>\n",
       "      <td>0.00000</td>\n",
       "      <td>5.000000</td>\n",
       "      <td>0.0</td>\n",
       "      <td>4.000000</td>\n",
       "      <td>0.000000</td>\n",
       "    </tr>\n",
       "    <tr>\n",
       "      <th>75%</th>\n",
       "      <td>1.000000</td>\n",
       "      <td>1.000000</td>\n",
       "      <td>1.000000</td>\n",
       "      <td>1.000000</td>\n",
       "      <td>1.000000</td>\n",
       "      <td>1.000000</td>\n",
       "      <td>1.000000</td>\n",
       "      <td>1.000000</td>\n",
       "      <td>1.000000</td>\n",
       "      <td>1.000000</td>\n",
       "      <td>...</td>\n",
       "      <td>1.000000</td>\n",
       "      <td>9.000000</td>\n",
       "      <td>0.000000</td>\n",
       "      <td>0.000000</td>\n",
       "      <td>56.000000</td>\n",
       "      <td>0.00000</td>\n",
       "      <td>7.000000</td>\n",
       "      <td>0.0</td>\n",
       "      <td>4.000000</td>\n",
       "      <td>1.000000</td>\n",
       "    </tr>\n",
       "    <tr>\n",
       "      <th>max</th>\n",
       "      <td>1.000000</td>\n",
       "      <td>1.000000</td>\n",
       "      <td>1.000000</td>\n",
       "      <td>1.000000</td>\n",
       "      <td>1.000000</td>\n",
       "      <td>1.000000</td>\n",
       "      <td>1.000000</td>\n",
       "      <td>1.000000</td>\n",
       "      <td>1.000000</td>\n",
       "      <td>1.000000</td>\n",
       "      <td>...</td>\n",
       "      <td>1.000000</td>\n",
       "      <td>10.000000</td>\n",
       "      <td>1.000000</td>\n",
       "      <td>1.000000</td>\n",
       "      <td>59.000000</td>\n",
       "      <td>1.00000</td>\n",
       "      <td>10.000000</td>\n",
       "      <td>0.0</td>\n",
       "      <td>4.000000</td>\n",
       "      <td>1.000000</td>\n",
       "    </tr>\n",
       "  </tbody>\n",
       "</table>\n",
       "<p>8 rows × 21 columns</p>\n",
       "</div>"
      ],
      "text/plain": [
       "         A1_Score    A2_Score    A3_Score    A4_Score    A5_Score    A6_Score  \\\n",
       "count  609.000000  609.000000  609.000000  609.000000  609.000000  609.000000   \n",
       "mean     0.740558    0.469622    0.481117    0.520525    0.525452    0.307061   \n",
       "std      0.438689    0.499487    0.500054    0.499989    0.499762    0.461654   \n",
       "min      0.000000    0.000000    0.000000    0.000000    0.000000    0.000000   \n",
       "25%      0.000000    0.000000    0.000000    0.000000    0.000000    0.000000   \n",
       "50%      1.000000    0.000000    0.000000    1.000000    1.000000    0.000000   \n",
       "75%      1.000000    1.000000    1.000000    1.000000    1.000000    1.000000   \n",
       "max      1.000000    1.000000    1.000000    1.000000    1.000000    1.000000   \n",
       "\n",
       "         A7_Score    A8_Score    A9_Score   A10_Score  ...      gender  \\\n",
       "count  609.000000  609.000000  609.000000  609.000000  ...  609.000000   \n",
       "mean     0.428571    0.665025    0.341544    0.597701  ...    0.527094   \n",
       "std      0.495278    0.472370    0.474617    0.490765  ...    0.499676   \n",
       "min      0.000000    0.000000    0.000000    0.000000  ...    0.000000   \n",
       "25%      0.000000    0.000000    0.000000    0.000000  ...    0.000000   \n",
       "50%      0.000000    1.000000    0.000000    1.000000  ...    1.000000   \n",
       "75%      1.000000    1.000000    1.000000    1.000000  ...    1.000000   \n",
       "max      1.000000    1.000000    1.000000    1.000000  ...    1.000000   \n",
       "\n",
       "        ethnicity     jundice      austim  contry_of_res  used_app_before  \\\n",
       "count  609.000000  609.000000  609.000000     609.000000        609.00000   \n",
       "mean     4.896552    0.096880    0.139573      39.403941          0.01642   \n",
       "std      3.637904    0.296038    0.346828      17.625986          0.12719   \n",
       "min      0.000000    0.000000    0.000000       0.000000          0.00000   \n",
       "25%      2.000000    0.000000    0.000000      26.000000          0.00000   \n",
       "50%      4.000000    0.000000    0.000000      36.000000          0.00000   \n",
       "75%      9.000000    0.000000    0.000000      56.000000          0.00000   \n",
       "max     10.000000    1.000000    1.000000      59.000000          1.00000   \n",
       "\n",
       "       result numeric  age_desc    relation   Class_ASD  \n",
       "count      609.000000     609.0  609.000000  609.000000  \n",
       "mean         5.077176       0.0    3.738916    0.295567  \n",
       "std          2.522717       0.0    0.697137    0.456672  \n",
       "min          0.000000       0.0    0.000000    0.000000  \n",
       "25%          3.000000       0.0    4.000000    0.000000  \n",
       "50%          5.000000       0.0    4.000000    0.000000  \n",
       "75%          7.000000       0.0    4.000000    1.000000  \n",
       "max         10.000000       0.0    4.000000    1.000000  \n",
       "\n",
       "[8 rows x 21 columns]"
      ]
     },
     "execution_count": 36,
     "metadata": {},
     "output_type": "execute_result"
    }
   ],
   "source": [
    "df.describe()"
   ]
  },
  {
   "cell_type": "code",
   "execution_count": 37,
   "id": "8e3bde1a",
   "metadata": {},
   "outputs": [],
   "source": [
    "x=df.drop('Class_ASD',axis=1)\n",
    "y=df['Class_ASD']"
   ]
  },
  {
   "cell_type": "code",
   "execution_count": 38,
   "id": "c91725a8-96d1-44a9-9ec2-3ee927c09dc5",
   "metadata": {},
   "outputs": [],
   "source": [
    "from sklearn.decomposition import PCA\n",
    "pca=PCA()"
   ]
  },
  {
   "cell_type": "code",
   "execution_count": 39,
   "id": "56de3608-1b26-4ab0-af84-7b90995bc007",
   "metadata": {},
   "outputs": [],
   "source": [
    "pc_df=pca.fit_transform(x)"
   ]
  },
  {
   "cell_type": "code",
   "execution_count": 40,
   "id": "543147e0-57a8-4cfa-a54d-59aee1781525",
   "metadata": {},
   "outputs": [
    {
     "data": {
      "text/plain": [
       "array([[-1.73988116e+01, -4.56077076e+00, -4.23260829e+00, ...,\n",
       "        -2.39634671e-02,  9.52490709e-15,  0.00000000e+00],\n",
       "       [ 2.87239634e+01, -3.68395204e+00, -1.24432431e+00, ...,\n",
       "         1.17393310e-03,  3.07510291e-15,  0.00000000e+00],\n",
       "       [-9.37682059e+00, -3.36965106e+00, -1.50983261e+00, ...,\n",
       "         5.51732277e-03, -4.74095210e-15, -0.00000000e+00],\n",
       "       ...,\n",
       "       [ 6.13363866e+00,  4.44357347e+00,  2.13753162e+00, ...,\n",
       "         9.31545739e-03, -5.97214885e-17,  0.00000000e+00],\n",
       "       [-8.52607171e-01,  4.67417687e+00,  3.72227396e+00, ...,\n",
       "         7.72388600e-03,  7.41296777e-18,  0.00000000e+00],\n",
       "       [ 2.24885364e+01, -1.59264760e+00, -5.81650960e+00, ...,\n",
       "        -4.41060129e-03, -1.19057038e-16,  0.00000000e+00]])"
      ]
     },
     "execution_count": 40,
     "metadata": {},
     "output_type": "execute_result"
    }
   ],
   "source": [
    "pc_df"
   ]
  },
  {
   "cell_type": "code",
   "execution_count": 41,
   "id": "ae8d1462",
   "metadata": {},
   "outputs": [],
   "source": [
    "columns=['A1_Score','A2_Score','A3_Score','A4_Score','A5_Score','A6_Score','A7_Score','A8_Score','A9_Score','A10_Score','age numeric','gender','ethnicity','jundice','austim','contry_of_res','used_app_before','result numeric','age_desc','relation']"
   ]
  },
  {
   "cell_type": "code",
   "execution_count": 42,
   "id": "ef804792-b1ce-4971-ad15-cc5dba776924",
   "metadata": {},
   "outputs": [],
   "source": [
    "pc_df=pd.DataFrame(data=pc_df,columns=columns)"
   ]
  },
  {
   "cell_type": "code",
   "execution_count": 43,
   "id": "6a529df6",
   "metadata": {},
   "outputs": [
    {
     "data": {
      "text/html": [
       "<div>\n",
       "<style scoped>\n",
       "    .dataframe tbody tr th:only-of-type {\n",
       "        vertical-align: middle;\n",
       "    }\n",
       "\n",
       "    .dataframe tbody tr th {\n",
       "        vertical-align: top;\n",
       "    }\n",
       "\n",
       "    .dataframe thead th {\n",
       "        text-align: right;\n",
       "    }\n",
       "</style>\n",
       "<table border=\"1\" class=\"dataframe\">\n",
       "  <thead>\n",
       "    <tr style=\"text-align: right;\">\n",
       "      <th></th>\n",
       "      <th>A1_Score</th>\n",
       "      <th>A2_Score</th>\n",
       "      <th>A3_Score</th>\n",
       "      <th>A4_Score</th>\n",
       "      <th>A5_Score</th>\n",
       "      <th>A6_Score</th>\n",
       "      <th>A7_Score</th>\n",
       "      <th>A8_Score</th>\n",
       "      <th>A9_Score</th>\n",
       "      <th>A10_Score</th>\n",
       "      <th>age numeric</th>\n",
       "      <th>gender</th>\n",
       "      <th>ethnicity</th>\n",
       "      <th>jundice</th>\n",
       "      <th>austim</th>\n",
       "      <th>contry_of_res</th>\n",
       "      <th>used_app_before</th>\n",
       "      <th>result numeric</th>\n",
       "      <th>age_desc</th>\n",
       "      <th>relation</th>\n",
       "    </tr>\n",
       "  </thead>\n",
       "  <tbody>\n",
       "    <tr>\n",
       "      <th>0</th>\n",
       "      <td>-17.398812</td>\n",
       "      <td>-4.560771</td>\n",
       "      <td>-4.232608</td>\n",
       "      <td>0.841996</td>\n",
       "      <td>-0.174588</td>\n",
       "      <td>-0.257349</td>\n",
       "      <td>0.082489</td>\n",
       "      <td>-0.370510</td>\n",
       "      <td>-0.971505</td>\n",
       "      <td>-0.218913</td>\n",
       "      <td>-0.652321</td>\n",
       "      <td>0.655827</td>\n",
       "      <td>0.310078</td>\n",
       "      <td>0.132068</td>\n",
       "      <td>-0.005355</td>\n",
       "      <td>-0.136061</td>\n",
       "      <td>-0.055122</td>\n",
       "      <td>-0.023963</td>\n",
       "      <td>9.524907e-15</td>\n",
       "      <td>0.0</td>\n",
       "    </tr>\n",
       "    <tr>\n",
       "      <th>1</th>\n",
       "      <td>28.723963</td>\n",
       "      <td>-3.683952</td>\n",
       "      <td>-1.244324</td>\n",
       "      <td>0.482358</td>\n",
       "      <td>-0.202994</td>\n",
       "      <td>-0.186576</td>\n",
       "      <td>-0.182708</td>\n",
       "      <td>-0.691990</td>\n",
       "      <td>0.111681</td>\n",
       "      <td>-0.004664</td>\n",
       "      <td>-0.885702</td>\n",
       "      <td>-0.992966</td>\n",
       "      <td>0.079030</td>\n",
       "      <td>0.425427</td>\n",
       "      <td>-0.019591</td>\n",
       "      <td>0.526788</td>\n",
       "      <td>-0.387270</td>\n",
       "      <td>0.001174</td>\n",
       "      <td>3.075103e-15</td>\n",
       "      <td>0.0</td>\n",
       "    </tr>\n",
       "    <tr>\n",
       "      <th>2</th>\n",
       "      <td>-9.376821</td>\n",
       "      <td>-3.369651</td>\n",
       "      <td>-1.509833</td>\n",
       "      <td>-2.762775</td>\n",
       "      <td>1.877870</td>\n",
       "      <td>0.664844</td>\n",
       "      <td>0.026056</td>\n",
       "      <td>-0.266108</td>\n",
       "      <td>-0.111682</td>\n",
       "      <td>0.108424</td>\n",
       "      <td>-0.242143</td>\n",
       "      <td>-0.856280</td>\n",
       "      <td>0.478331</td>\n",
       "      <td>0.196071</td>\n",
       "      <td>0.885076</td>\n",
       "      <td>0.406456</td>\n",
       "      <td>0.512581</td>\n",
       "      <td>0.005517</td>\n",
       "      <td>-4.740952e-15</td>\n",
       "      <td>-0.0</td>\n",
       "    </tr>\n",
       "    <tr>\n",
       "      <th>3</th>\n",
       "      <td>-18.026216</td>\n",
       "      <td>4.354901</td>\n",
       "      <td>-3.185431</td>\n",
       "      <td>0.637791</td>\n",
       "      <td>-0.200500</td>\n",
       "      <td>0.294325</td>\n",
       "      <td>0.669921</td>\n",
       "      <td>-0.313831</td>\n",
       "      <td>-0.252718</td>\n",
       "      <td>0.147393</td>\n",
       "      <td>-1.034387</td>\n",
       "      <td>-0.308776</td>\n",
       "      <td>0.480103</td>\n",
       "      <td>0.412934</td>\n",
       "      <td>0.258728</td>\n",
       "      <td>0.393218</td>\n",
       "      <td>-0.428513</td>\n",
       "      <td>0.010905</td>\n",
       "      <td>-1.248140e-16</td>\n",
       "      <td>0.0</td>\n",
       "    </tr>\n",
       "    <tr>\n",
       "      <th>4</th>\n",
       "      <td>-18.024189</td>\n",
       "      <td>5.093015</td>\n",
       "      <td>-1.657155</td>\n",
       "      <td>-3.537253</td>\n",
       "      <td>-0.174523</td>\n",
       "      <td>0.228443</td>\n",
       "      <td>-0.579076</td>\n",
       "      <td>-0.252314</td>\n",
       "      <td>-0.222306</td>\n",
       "      <td>0.156073</td>\n",
       "      <td>-0.238491</td>\n",
       "      <td>-0.212043</td>\n",
       "      <td>0.063951</td>\n",
       "      <td>-0.063554</td>\n",
       "      <td>0.494113</td>\n",
       "      <td>-0.077068</td>\n",
       "      <td>0.912644</td>\n",
       "      <td>-0.010639</td>\n",
       "      <td>3.258439e-16</td>\n",
       "      <td>0.0</td>\n",
       "    </tr>\n",
       "    <tr>\n",
       "      <th>...</th>\n",
       "      <td>...</td>\n",
       "      <td>...</td>\n",
       "      <td>...</td>\n",
       "      <td>...</td>\n",
       "      <td>...</td>\n",
       "      <td>...</td>\n",
       "      <td>...</td>\n",
       "      <td>...</td>\n",
       "      <td>...</td>\n",
       "      <td>...</td>\n",
       "      <td>...</td>\n",
       "      <td>...</td>\n",
       "      <td>...</td>\n",
       "      <td>...</td>\n",
       "      <td>...</td>\n",
       "      <td>...</td>\n",
       "      <td>...</td>\n",
       "      <td>...</td>\n",
       "      <td>...</td>\n",
       "      <td>...</td>\n",
       "    </tr>\n",
       "    <tr>\n",
       "      <th>604</th>\n",
       "      <td>34.428554</td>\n",
       "      <td>0.104679</td>\n",
       "      <td>-4.975423</td>\n",
       "      <td>-3.529026</td>\n",
       "      <td>-0.352482</td>\n",
       "      <td>-0.276254</td>\n",
       "      <td>0.315757</td>\n",
       "      <td>-0.093662</td>\n",
       "      <td>-0.199597</td>\n",
       "      <td>0.262029</td>\n",
       "      <td>-0.071745</td>\n",
       "      <td>0.362271</td>\n",
       "      <td>0.058506</td>\n",
       "      <td>0.091482</td>\n",
       "      <td>-0.133379</td>\n",
       "      <td>-0.206718</td>\n",
       "      <td>-0.035350</td>\n",
       "      <td>-0.027141</td>\n",
       "      <td>-3.313194e-16</td>\n",
       "      <td>0.0</td>\n",
       "    </tr>\n",
       "    <tr>\n",
       "      <th>605</th>\n",
       "      <td>-4.363935</td>\n",
       "      <td>-4.575666</td>\n",
       "      <td>-5.029398</td>\n",
       "      <td>-0.090096</td>\n",
       "      <td>-0.221644</td>\n",
       "      <td>0.033167</td>\n",
       "      <td>0.336579</td>\n",
       "      <td>-0.042068</td>\n",
       "      <td>0.249594</td>\n",
       "      <td>0.602805</td>\n",
       "      <td>-0.044156</td>\n",
       "      <td>-0.087479</td>\n",
       "      <td>1.053785</td>\n",
       "      <td>0.118008</td>\n",
       "      <td>0.592543</td>\n",
       "      <td>-0.705284</td>\n",
       "      <td>-0.004844</td>\n",
       "      <td>0.031295</td>\n",
       "      <td>-1.699889e-16</td>\n",
       "      <td>0.0</td>\n",
       "    </tr>\n",
       "    <tr>\n",
       "      <th>606</th>\n",
       "      <td>6.133639</td>\n",
       "      <td>4.443573</td>\n",
       "      <td>2.137532</td>\n",
       "      <td>1.601996</td>\n",
       "      <td>1.554032</td>\n",
       "      <td>0.851691</td>\n",
       "      <td>0.054154</td>\n",
       "      <td>-0.334489</td>\n",
       "      <td>0.501891</td>\n",
       "      <td>-0.285301</td>\n",
       "      <td>-0.402054</td>\n",
       "      <td>-0.210766</td>\n",
       "      <td>-0.454948</td>\n",
       "      <td>-0.251439</td>\n",
       "      <td>-0.188816</td>\n",
       "      <td>-0.237859</td>\n",
       "      <td>-0.003180</td>\n",
       "      <td>0.009315</td>\n",
       "      <td>-5.972149e-17</td>\n",
       "      <td>0.0</td>\n",
       "    </tr>\n",
       "    <tr>\n",
       "      <th>607</th>\n",
       "      <td>-0.852607</td>\n",
       "      <td>4.674177</td>\n",
       "      <td>3.722274</td>\n",
       "      <td>-2.650047</td>\n",
       "      <td>-0.351033</td>\n",
       "      <td>0.604479</td>\n",
       "      <td>-0.275223</td>\n",
       "      <td>0.974353</td>\n",
       "      <td>-0.166064</td>\n",
       "      <td>0.129149</td>\n",
       "      <td>0.115612</td>\n",
       "      <td>-0.768042</td>\n",
       "      <td>-0.013895</td>\n",
       "      <td>0.326804</td>\n",
       "      <td>0.319204</td>\n",
       "      <td>-0.452403</td>\n",
       "      <td>0.077367</td>\n",
       "      <td>0.007724</td>\n",
       "      <td>7.412968e-18</td>\n",
       "      <td>0.0</td>\n",
       "    </tr>\n",
       "    <tr>\n",
       "      <th>608</th>\n",
       "      <td>22.488536</td>\n",
       "      <td>-1.592648</td>\n",
       "      <td>-5.816510</td>\n",
       "      <td>-0.869104</td>\n",
       "      <td>-0.463501</td>\n",
       "      <td>0.170178</td>\n",
       "      <td>0.221759</td>\n",
       "      <td>0.419215</td>\n",
       "      <td>-0.062201</td>\n",
       "      <td>-0.430932</td>\n",
       "      <td>-0.296856</td>\n",
       "      <td>0.297448</td>\n",
       "      <td>0.068020</td>\n",
       "      <td>-0.208626</td>\n",
       "      <td>0.566692</td>\n",
       "      <td>-0.540202</td>\n",
       "      <td>0.172059</td>\n",
       "      <td>-0.004411</td>\n",
       "      <td>-1.190570e-16</td>\n",
       "      <td>0.0</td>\n",
       "    </tr>\n",
       "  </tbody>\n",
       "</table>\n",
       "<p>609 rows × 20 columns</p>\n",
       "</div>"
      ],
      "text/plain": [
       "      A1_Score  A2_Score  A3_Score  A4_Score  A5_Score  A6_Score  A7_Score  \\\n",
       "0   -17.398812 -4.560771 -4.232608  0.841996 -0.174588 -0.257349  0.082489   \n",
       "1    28.723963 -3.683952 -1.244324  0.482358 -0.202994 -0.186576 -0.182708   \n",
       "2    -9.376821 -3.369651 -1.509833 -2.762775  1.877870  0.664844  0.026056   \n",
       "3   -18.026216  4.354901 -3.185431  0.637791 -0.200500  0.294325  0.669921   \n",
       "4   -18.024189  5.093015 -1.657155 -3.537253 -0.174523  0.228443 -0.579076   \n",
       "..         ...       ...       ...       ...       ...       ...       ...   \n",
       "604  34.428554  0.104679 -4.975423 -3.529026 -0.352482 -0.276254  0.315757   \n",
       "605  -4.363935 -4.575666 -5.029398 -0.090096 -0.221644  0.033167  0.336579   \n",
       "606   6.133639  4.443573  2.137532  1.601996  1.554032  0.851691  0.054154   \n",
       "607  -0.852607  4.674177  3.722274 -2.650047 -0.351033  0.604479 -0.275223   \n",
       "608  22.488536 -1.592648 -5.816510 -0.869104 -0.463501  0.170178  0.221759   \n",
       "\n",
       "     A8_Score  A9_Score  A10_Score  age numeric    gender  ethnicity  \\\n",
       "0   -0.370510 -0.971505  -0.218913    -0.652321  0.655827   0.310078   \n",
       "1   -0.691990  0.111681  -0.004664    -0.885702 -0.992966   0.079030   \n",
       "2   -0.266108 -0.111682   0.108424    -0.242143 -0.856280   0.478331   \n",
       "3   -0.313831 -0.252718   0.147393    -1.034387 -0.308776   0.480103   \n",
       "4   -0.252314 -0.222306   0.156073    -0.238491 -0.212043   0.063951   \n",
       "..        ...       ...        ...          ...       ...        ...   \n",
       "604 -0.093662 -0.199597   0.262029    -0.071745  0.362271   0.058506   \n",
       "605 -0.042068  0.249594   0.602805    -0.044156 -0.087479   1.053785   \n",
       "606 -0.334489  0.501891  -0.285301    -0.402054 -0.210766  -0.454948   \n",
       "607  0.974353 -0.166064   0.129149     0.115612 -0.768042  -0.013895   \n",
       "608  0.419215 -0.062201  -0.430932    -0.296856  0.297448   0.068020   \n",
       "\n",
       "      jundice    austim  contry_of_res  used_app_before  result numeric  \\\n",
       "0    0.132068 -0.005355      -0.136061        -0.055122       -0.023963   \n",
       "1    0.425427 -0.019591       0.526788        -0.387270        0.001174   \n",
       "2    0.196071  0.885076       0.406456         0.512581        0.005517   \n",
       "3    0.412934  0.258728       0.393218        -0.428513        0.010905   \n",
       "4   -0.063554  0.494113      -0.077068         0.912644       -0.010639   \n",
       "..        ...       ...            ...              ...             ...   \n",
       "604  0.091482 -0.133379      -0.206718        -0.035350       -0.027141   \n",
       "605  0.118008  0.592543      -0.705284        -0.004844        0.031295   \n",
       "606 -0.251439 -0.188816      -0.237859        -0.003180        0.009315   \n",
       "607  0.326804  0.319204      -0.452403         0.077367        0.007724   \n",
       "608 -0.208626  0.566692      -0.540202         0.172059       -0.004411   \n",
       "\n",
       "         age_desc  relation  \n",
       "0    9.524907e-15       0.0  \n",
       "1    3.075103e-15       0.0  \n",
       "2   -4.740952e-15      -0.0  \n",
       "3   -1.248140e-16       0.0  \n",
       "4    3.258439e-16       0.0  \n",
       "..            ...       ...  \n",
       "604 -3.313194e-16       0.0  \n",
       "605 -1.699889e-16       0.0  \n",
       "606 -5.972149e-17       0.0  \n",
       "607  7.412968e-18       0.0  \n",
       "608 -1.190570e-16       0.0  \n",
       "\n",
       "[609 rows x 20 columns]"
      ]
     },
     "execution_count": 43,
     "metadata": {},
     "output_type": "execute_result"
    }
   ],
   "source": [
    "pc_df"
   ]
  },
  {
   "cell_type": "code",
   "execution_count": 44,
   "id": "f4e84672-27d6-4f16-94a8-45979f69d8a1",
   "metadata": {},
   "outputs": [],
   "source": [
    "var=pca.explained_variance_ratio_"
   ]
  },
  {
   "cell_type": "code",
   "execution_count": 45,
   "id": "042a771a-495b-4f58-97f8-0d4f165ec272",
   "metadata": {},
   "outputs": [
    {
     "data": {
      "text/plain": [
       "array([7.20861325e-01, 2.29582150e-01, 3.04876508e-02, 1.30953074e-02,\n",
       "       1.13733748e-03, 6.84000420e-04, 5.97280441e-04, 5.39365090e-04,\n",
       "       4.54676606e-04, 4.44986252e-04, 4.02309430e-04, 3.45244833e-04,\n",
       "       3.37449671e-04, 3.19510239e-04, 2.57861065e-04, 2.37954392e-04,\n",
       "       1.79528465e-04, 3.60633686e-05, 5.74295814e-34, 0.00000000e+00])"
      ]
     },
     "execution_count": 45,
     "metadata": {},
     "output_type": "execute_result"
    }
   ],
   "source": [
    "var"
   ]
  },
  {
   "cell_type": "code",
   "execution_count": 46,
   "id": "6b493082-ca3e-4747-bd91-0e58a8fbdfa7",
   "metadata": {},
   "outputs": [
    {
     "data": {
      "text/plain": [
       "0.7208613245416216"
      ]
     },
     "execution_count": 46,
     "metadata": {},
     "output_type": "execute_result"
    }
   ],
   "source": [
    "max(var)"
   ]
  },
  {
   "cell_type": "code",
   "execution_count": 47,
   "id": "3e9556d4-b623-415b-b41f-98fc0e4f3af2",
   "metadata": {},
   "outputs": [
    {
     "data": {
      "text/plain": [
       "0.0"
      ]
     },
     "execution_count": 47,
     "metadata": {},
     "output_type": "execute_result"
    }
   ],
   "source": [
    "min(var)"
   ]
  },
  {
   "cell_type": "code",
   "execution_count": 48,
   "id": "38d69657-4d57-453c-99ae-bb8d0398cdfd",
   "metadata": {},
   "outputs": [
    {
     "data": {
      "text/plain": [
       "1.0"
      ]
     },
     "execution_count": 48,
     "metadata": {},
     "output_type": "execute_result"
    }
   ],
   "source": [
    "sum(var)"
   ]
  },
  {
   "cell_type": "code",
   "execution_count": 49,
   "id": "c129dc1b-32a2-4ea4-ada6-a5a421d00c52",
   "metadata": {},
   "outputs": [
    {
     "data": {
      "text/plain": [
       "[0.7208613245416216,\n",
       " 0.22958214954608522,\n",
       " 0.030487650793332485,\n",
       " 0.013095307368163316,\n",
       " 0.0011373374784342987,\n",
       " 0.0006840004201186081,\n",
       " 0.0005972804406693159,\n",
       " 0.0005393650895027677,\n",
       " 0.0004546766058904481,\n",
       " 0.0004449862519412923,\n",
       " 0.0004023094304500199,\n",
       " 0.0003452448331514759,\n",
       " 0.0003374496712218921,\n",
       " 0.0003195102394202486,\n",
       " 0.00025786106501971706,\n",
       " 0.00023795439160369917,\n",
       " 0.0001795284647626383,\n",
       " 3.6063368611031025e-05,\n",
       " 5.7429581431642075e-34,\n",
       " 0.0]"
      ]
     },
     "execution_count": 49,
     "metadata": {},
     "output_type": "execute_result"
    }
   ],
   "source": [
    "sorted(var,reverse=True)"
   ]
  },
  {
   "cell_type": "code",
   "execution_count": 50,
   "id": "b89a8408-96b2-43a3-90aa-79537fe44009",
   "metadata": {},
   "outputs": [
    {
     "data": {
      "text/plain": [
       "99.40264322492027"
      ]
     },
     "execution_count": 50,
     "metadata": {},
     "output_type": "execute_result"
    }
   ],
   "source": [
    "sum(sorted(var,reverse=True)[:4])*100"
   ]
  },
  {
   "cell_type": "code",
   "execution_count": 51,
   "id": "2ff3bbc7-44cb-4d56-89a5-b54766aa4a97",
   "metadata": {},
   "outputs": [
    {
     "data": {
      "text/plain": [
       "99.51637697276368"
      ]
     },
     "execution_count": 51,
     "metadata": {},
     "output_type": "execute_result"
    }
   ],
   "source": [
    "sum(sorted(var,reverse=True)[:5])*100"
   ]
  },
  {
   "cell_type": "code",
   "execution_count": 52,
   "id": "ad01d8c8-2b98-4cb9-8a61-03d4943b23a9",
   "metadata": {},
   "outputs": [
    {
     "data": {
      "text/plain": [
       "99.64450505884248"
      ]
     },
     "execution_count": 52,
     "metadata": {},
     "output_type": "execute_result"
    }
   ],
   "source": [
    "sum(sorted(var,reverse=True)[:7])*100"
   ]
  },
  {
   "cell_type": "code",
   "execution_count": 53,
   "id": "f51aba68-2961-4b69-8858-a220e846139f",
   "metadata": {},
   "outputs": [
    {
     "data": {
      "image/png": "[encoded data removed]",
      "text/plain": [
       "<Figure size 432x288 with 1 Axes>"
      ]
     },
     "metadata": {
      "needs_background": "light"
     },
     "output_type": "display_data"
    }
   ],
   "source": [
    "plt.plot(np.cumsum(var))\n",
    "plt.show()"
   ]
  },
  {
   "cell_type": "markdown",
   "id": "cff06a0f",
   "metadata": {},
   "source": [
    "## Train Test Split the Data "
   ]
  },
  {
   "cell_type": "code",
   "execution_count": 54,
   "id": "a4a15a0f",
   "metadata": {},
   "outputs": [],
   "source": [
    "from sklearn.model_selection import train_test_split"
   ]
  },
  {
   "cell_type": "code",
   "execution_count": 55,
   "id": "6c492f39",
   "metadata": {},
   "outputs": [],
   "source": [
    "x_train,x_test,y_train,y_test= train_test_split(x,y,test_size=0.2,random_state=22)"
   ]
  },
  {
   "cell_type": "code",
   "execution_count": 56,
   "id": "be4dfdeb-a652-4514-ab0c-997de85c940b",
   "metadata": {},
   "outputs": [],
   "source": [
    "pca2=PCA(n_components=5)"
   ]
  },
  {
   "cell_type": "markdown",
   "id": "4ca4df22",
   "metadata": {},
   "source": [
    " "
   ]
  },
  {
   "cell_type": "code",
   "execution_count": 57,
   "id": "64b5234c",
   "metadata": {},
   "outputs": [],
   "source": [
    "pc_df_train=pca2.fit_transform(x_train)"
   ]
  },
  {
   "cell_type": "code",
   "execution_count": 58,
   "id": "f8a3ddd5",
   "metadata": {},
   "outputs": [
    {
     "data": {
      "text/plain": [
       "array([[-16.37421645,  -8.49882132,  -5.25152014,  -1.05738714,\n",
       "         -0.14817501],\n",
       "       [-11.41607388,   4.87533908,  -3.69436099,  -0.46860757,\n",
       "         -0.14849084],\n",
       "       [ 17.14160067,   1.53483591,   2.60576106,   2.08881673,\n",
       "         -0.39437887],\n",
       "       ...,\n",
       "       [-14.10882783,  -8.29728576,   4.22695411,  -1.90022439,\n",
       "         -0.07136404],\n",
       "       [ 40.40750149,   0.13918213,   4.7995619 ,   1.99305093,\n",
       "         -0.44992297],\n",
       "       [-16.82768681,  -2.54650966,  -4.61720248,  -1.22738827,\n",
       "          1.84549176]])"
      ]
     },
     "execution_count": 58,
     "metadata": {},
     "output_type": "execute_result"
    }
   ],
   "source": [
    "pc_df_train"
   ]
  },
  {
   "cell_type": "code",
   "execution_count": 59,
   "id": "d5beb5df",
   "metadata": {},
   "outputs": [
    {
     "data": {
      "text/plain": [
       "array([[-1.37570605e+01, -1.23100356e+01,  5.12577666e+00,\n",
       "         1.03630546e+00, -1.81491675e-01],\n",
       "       [-1.53434271e-01,  4.95069274e+00,  3.65640282e+00,\n",
       "        -2.79158318e+00, -2.51739455e-01],\n",
       "       [ 2.29898287e+01,  1.52637137e+01,  6.32306316e-01,\n",
       "        -2.13695209e-01,  1.63975058e+00],\n",
       "       [ 4.03721639e+01,  2.06270419e-01,  3.05449642e+00,\n",
       "        -1.82005008e+00, -5.03499576e-01],\n",
       "       [ 3.54663406e+00,  1.81329326e+01, -4.22247863e+00,\n",
       "        -3.54836259e+00, -2.64891747e-01],\n",
       "       [-1.57459189e+01, -3.50202280e+00, -3.46487493e+00,\n",
       "         1.68561024e+00, -7.52166645e-02],\n",
       "       [ 1.44350263e+01, -1.84375710e+00,  2.90402219e+00,\n",
       "        -1.51761374e+00, -5.42473422e-01],\n",
       "       [-1.58928991e+01, -1.13440117e+01,  1.80529109e+00,\n",
       "        -6.64187026e+00,  1.94067399e+00],\n",
       "       [ 3.85688152e+01,  1.90477015e+01, -5.44977563e+00,\n",
       "        -3.34188894e+00, -3.90576539e-01],\n",
       "       [-1.36921847e+01, -1.32714995e+01,  4.19572752e+00,\n",
       "        -7.87574534e-01,  8.32345567e-01],\n",
       "       [ 1.44094749e+01, -1.75793101e+00,  2.43592659e+00,\n",
       "        -1.41597750e-01, -3.84523678e-01],\n",
       "       [-1.64499789e+01,  5.39405822e+00, -2.10354222e+00,\n",
       "         2.38554555e+00, -1.27075469e-01],\n",
       "       [-1.73965617e+01,  4.40052296e+00, -3.94818816e+00,\n",
       "        -1.40669596e+00, -1.49701340e-01],\n",
       "       [-1.70484495e+01,  1.24206986e+01, -3.60810636e+00,\n",
       "        -2.60420962e+00, -2.40165407e-02],\n",
       "       [-1.49794536e+01, -1.25114038e+01, -2.18843083e+00,\n",
       "         6.67817467e+00, -1.94289181e-02],\n",
       "       [ 4.66775724e+00, -7.82206596e+00, -4.19106942e+00,\n",
       "         2.90379506e+00, -1.47910324e-01],\n",
       "       [ 1.46341010e+01, -4.71369227e+00,  1.69918771e+00,\n",
       "        -9.83898950e-01, -4.02973140e-01],\n",
       "       [-1.54159545e+00,  9.85886038e+00,  5.07045976e+00,\n",
       "         1.36754536e+00, -4.30611905e-01],\n",
       "       [-1.73739862e+01,  1.64122366e+01, -3.64622206e+00,\n",
       "        -3.66630165e+00, -9.89936873e-02],\n",
       "       [-1.63255414e+01,  1.94693251e+01,  6.63418254e+00,\n",
       "        -3.72740397e+00, -2.81068674e-01],\n",
       "       [ 3.34279471e+01,  2.06238318e+01, -5.11860605e+00,\n",
       "        -3.43059939e+00, -3.75019933e-01],\n",
       "       [ 4.81011320e+00, -9.00261972e+00, -2.92407206e+00,\n",
       "         1.15142205e+00, -3.09671701e-01],\n",
       "       [-5.07939860e+00,  4.39603667e+00,  5.59881787e+00,\n",
       "        -1.30632843e+00, -3.21739378e-01],\n",
       "       [ 1.46481256e+01, -4.73681155e+00,  2.15436001e+00,\n",
       "        -4.16393546e-02, -4.34762906e-01],\n",
       "       [-1.69643797e+01, -6.19234451e-01, -2.69811067e+00,\n",
       "         2.57639738e+00, -1.80177482e-03],\n",
       "       [ 3.46031142e+01, -6.28576892e+00, -6.48500004e+00,\n",
       "         1.94915560e-01, -5.00019279e-01],\n",
       "       [ 3.47481723e+01,  4.65157033e+00, -4.09574673e+00,\n",
       "         2.78928430e+00, -3.07988331e-01],\n",
       "       [ 4.67235576e+00, -5.53266256e+00,  1.95882776e+00,\n",
       "        -1.08689544e+00, -2.72517542e-02],\n",
       "       [ 6.79222170e+00,  4.01634318e+00, -2.08878526e+00,\n",
       "        -4.80832450e+00, -2.31694321e-01],\n",
       "       [ 1.47227667e+01, -5.72058564e+00,  2.02887363e+00,\n",
       "        -4.06277999e-02, -3.83628231e-01],\n",
       "       [ 1.41653408e+01,  1.24510902e+00,  2.27418942e+00,\n",
       "        -1.22534951e+00, -1.88359400e-01],\n",
       "       [ 5.04862031e+00, -9.64266929e+00,  3.38336061e+00,\n",
       "         5.98492406e-01, -3.40582596e-01],\n",
       "       [ 3.37571205e+01,  1.66308556e+01, -5.06575028e+00,\n",
       "        -2.35525705e+00, -3.70508215e-01],\n",
       "       [ 2.02771488e+00,  2.49437702e+01, -2.20581493e+00,\n",
       "        -9.41044568e-01, -3.01877806e-01],\n",
       "       [-1.65612230e+01,  6.45778080e+00, -3.75798475e+00,\n",
       "        -1.43153728e+00, -3.98581182e-02],\n",
       "       [-1.43472950e+01, -5.31640884e+00,  4.11435717e+00,\n",
       "        -2.98091544e+00, -4.24289602e-01],\n",
       "       [-1.39313744e+01, -1.02972741e+01,  4.45863828e+00,\n",
       "        -9.34166392e-01, -1.77560726e-01],\n",
       "       [-1.90442532e+01,  2.52251476e+01, -1.78841325e+00,\n",
       "        -1.98132474e+00,  2.86254483e+00],\n",
       "       [-1.41607806e+01, -7.33965518e+00,  5.20821664e+00,\n",
       "        -7.54446132e-02, -2.05105739e-01],\n",
       "       [-1.66144598e+01,  7.44223475e+00, -3.21753340e+00,\n",
       "        -5.59785448e-01,  1.77859206e+00],\n",
       "       [-1.37001669e+01, -1.32726539e+01,  4.14527446e+00,\n",
       "        -8.50567938e-01, -1.43157562e-02],\n",
       "       [-1.38144806e+01, -1.13559634e+01,  6.10641384e+00,\n",
       "         2.87828637e+00, -8.15474273e-02],\n",
       "       [-1.59806191e+01, -1.34348959e+01, -6.20009661e+00,\n",
       "        -1.87445437e+00, -1.47185158e-01],\n",
       "       [ 5.00338631e+00, -9.55706101e+00,  1.16466077e+00,\n",
       "        -4.23844883e+00, -2.27033004e-01],\n",
       "       [-1.74218109e+01,  5.28564983e+00, -1.21581613e+00,\n",
       "         4.29344770e+00, -2.02299939e-01],\n",
       "       [-1.62990174e+01, -7.10661511e+00,  1.68141936e+00,\n",
       "         1.65370237e+00, -1.18243412e-01],\n",
       "       [-1.79027046e+01,  1.27238451e+01,  1.94420999e+00,\n",
       "        -5.12439396e+00, -1.93035149e-01],\n",
       "       [ 2.68054833e+01,  3.10834420e+00, -6.60224749e+00,\n",
       "        -2.97612430e+00, -3.17999484e-01],\n",
       "       [-1.37666107e+01, -1.22990734e+01,  4.71812512e+00,\n",
       "         1.39849946e-01, -1.94414733e-01],\n",
       "       [-1.36661097e+01, -1.33083127e+01,  5.05773373e+00,\n",
       "         1.01915425e+00,  7.69365661e-01],\n",
       "       [ 4.07721502e+01, -5.54208005e+00,  6.32941062e-01,\n",
       "        -8.10882484e-01, -6.01621121e-01],\n",
       "       [-2.20729537e+00, -1.02797432e+01, -6.83598401e+00,\n",
       "        -2.79129947e+00, -1.58933580e-01],\n",
       "       [ 6.97011484e+00,  1.99663162e+00, -1.39731620e+00,\n",
       "        -2.83325095e+00, -3.33662611e-01],\n",
       "       [-1.46070792e+01, -2.30754429e+00,  3.52974930e+00,\n",
       "        -4.95284935e+00, -2.31274147e-01],\n",
       "       [ 1.31475415e+01,  1.49389739e+01,  6.80948078e+00,\n",
       "         2.75327442e+00,  1.54157624e+00],\n",
       "       [ 1.46378561e+01, -4.72346416e+00,  1.71823785e+00,\n",
       "        -1.00203060e+00, -4.71513695e-01],\n",
       "       [-8.18038190e+00, -8.44616593e+00, -5.47129746e-02,\n",
       "        -3.49004884e+00, -1.75672126e-01],\n",
       "       [ 2.73620501e+01, -1.50251590e+00, -7.22974257e-01,\n",
       "        -3.49767431e+00, -2.82631604e-01],\n",
       "       [ 1.99073292e+01,  5.47327844e+00,  5.16488909e+00,\n",
       "        -2.40302257e-01, -3.82238693e-01],\n",
       "       [ 1.69223797e+01,  3.64479376e+00, -2.48985209e-01,\n",
       "        -4.63445955e+00,  1.70331544e+00],\n",
       "       [ 1.60975623e+01, -9.75806549e+00,  2.51302082e+00,\n",
       "        -2.66399899e+00,  1.82257709e+00],\n",
       "       [ 2.91615461e+01,  7.99992895e-01, -1.00537606e+00,\n",
       "         2.40980749e-01,  1.46537922e+00],\n",
       "       [ 7.79127539e+00, -7.96807060e+00, -1.10985298e+00,\n",
       "         2.58663180e-01, -3.63148240e-01],\n",
       "       [ 4.42891529e+00, -2.54470086e+00,  1.84627903e+00,\n",
       "        -2.08371522e+00, -2.97038068e-01],\n",
       "       [ 4.54864383e+00, -3.61026004e+00,  3.50456795e+00,\n",
       "         1.71161644e+00, -3.37089257e-01],\n",
       "       [ 1.45594575e+01, -3.72614602e+00,  1.79482898e+00,\n",
       "        -1.09287102e+00, -3.60453812e-01],\n",
       "       [ 1.66781603e+01,  6.63159375e+00, -3.58364962e-01,\n",
       "        -5.64734406e+00,  1.58074752e+00],\n",
       "       [ 3.81362916e+01,  1.43395795e+01,  8.93613930e-01,\n",
       "        -2.90478034e+00, -5.02554170e-01],\n",
       "       [ 1.41028945e+01,  2.18792889e+00,  3.30642370e+00,\n",
       "         7.49592280e-01, -4.40581564e-01],\n",
       "       [ 3.76718144e+00,  7.08901214e+00,  6.86058149e+00,\n",
       "         1.57393638e+00,  1.60828203e+00],\n",
       "       [-8.64155707e+00, -3.27185935e+00, -1.35201821e+00,\n",
       "        -2.81233993e+00,  1.89362560e+00],\n",
       "       [-1.82105657e+01,  1.43365726e+01, -3.79843587e+00,\n",
       "        -3.59238286e+00, -2.04046688e-01],\n",
       "       [ 4.53779513e+00, -3.58726597e+00,  3.04832596e+00,\n",
       "         7.85048753e-01, -1.87428027e-01],\n",
       "       [ 3.98455448e+00,  1.96300602e-01, -5.59727395e+00,\n",
       "        -2.10100378e+00, -2.05159556e-01],\n",
       "       [ 1.76579940e+01, -7.67101740e+00, -6.43388400e+00,\n",
       "        -8.29862593e-01, -2.59707655e-01],\n",
       "       [-1.41260168e+01, -8.99372738e+00,  1.42620942e+00,\n",
       "        -6.83074610e-01, -2.44127120e-01],\n",
       "       [-1.36921847e+01, -1.32714995e+01,  4.19572752e+00,\n",
       "        -7.87574534e-01,  8.32345567e-01],\n",
       "       [-1.78949519e+01,  1.27068227e+01,  2.38613226e+00,\n",
       "        -4.15919985e+00, -2.78081825e-01],\n",
       "       [ 4.17655368e+00,  4.33379958e-01,  1.74052201e+00,\n",
       "        -3.09944875e+00, -3.94339361e-01],\n",
       "       [-1.74077475e+01,  1.73106777e+01, -1.34363191e+00,\n",
       "         1.10048305e+00, -3.12377028e-01],\n",
       "       [-1.84470654e+01,  1.73074137e+01, -3.48604936e+00,\n",
       "        -3.67836042e+00, -1.50471026e-01],\n",
       "       [ 2.98432643e+01,  4.82620392e+00, -1.93876925e-01,\n",
       "         1.12224039e+00,  4.66734601e-01],\n",
       "       [-1.65975216e+01, -5.54065370e+00, -4.50023504e+00,\n",
       "        -1.69263834e-01, -1.84358314e-01],\n",
       "       [ 3.55582944e+01, -5.27706164e+00, -4.65155680e+00,\n",
       "         4.01372488e+00, -4.15023218e-01],\n",
       "       [ 1.41207363e+01, -1.07602056e+01,  1.57246334e+00,\n",
       "         1.73060877e-01, -2.85624475e-01],\n",
       "       [-1.70911292e+01,  1.33422341e+01, -1.72878890e+00,\n",
       "         1.21605798e+00, -2.08703007e-01],\n",
       "       [ 9.49668160e+00,  6.62592116e+00, -4.72667399e+00,\n",
       "        -1.28281689e+00, -2.28778986e-01],\n",
       "       [ 1.40651194e+01,  3.06740020e+00,  4.72618865e+00,\n",
       "         1.23706460e+00, -3.91850370e-01],\n",
       "       [-1.70214212e+01,  1.81015539e+00,  1.26196343e+00,\n",
       "        -3.84626289e+00, -6.62873450e-02],\n",
       "       [ 4.91271578e+00, -8.51672495e+00,  1.68896033e+00,\n",
       "        -9.59047635e-01, -3.40658559e-01],\n",
       "       [ 2.80517115e+00,  1.59067918e+01, -3.97255556e-02,\n",
       "         6.00691432e+00, -3.20732881e-01],\n",
       "       [ 1.45015370e+01, -5.06469943e+00, -2.96135233e+00,\n",
       "         5.74729388e+00, -3.13664063e-01],\n",
       "       [ 1.41725315e+01,  1.21242873e+00,  2.74537008e+00,\n",
       "        -2.29786309e-01, -5.28779954e-01],\n",
       "       [-1.42819300e+01,  3.56263732e+00, -1.94318987e+00,\n",
       "         3.39473685e+00, -1.38567790e-01],\n",
       "       [-1.56472173e+01,  1.14758681e+01,  7.58956213e+00,\n",
       "         3.30224308e-01,  7.08424576e-01],\n",
       "       [ 1.90794512e+00,  2.68634547e+01, -2.24777142e-01,\n",
       "         2.85244907e+00,  8.08790526e-01],\n",
       "       [ 4.59327559e+00, -6.06365052e+00, -1.73504124e+00,\n",
       "         2.99287875e+00, -3.21522518e-01],\n",
       "       [ 1.45608632e+01, -3.72515855e+00,  1.81714094e+00,\n",
       "        -1.00949805e+00, -3.83675260e-01],\n",
       "       [ 1.37819437e+01,  6.15611207e+00,  3.68012721e+00,\n",
       "         6.04839703e-01, -4.54834337e-01],\n",
       "       [ 3.45744271e+01,  6.67558599e+00, -4.77718369e+00,\n",
       "         7.50268869e-01,  6.41559862e-01],\n",
       "       [ 3.40414974e+01,  1.35680243e+01, -3.17926214e+00,\n",
       "         2.48580017e+00, -5.81594221e-01],\n",
       "       [-1.78428016e+01,  1.02803889e+01, -2.00370047e+00,\n",
       "         1.27323454e+00, -2.81713333e-01],\n",
       "       [ 5.87963495e+00, -1.06563270e+01, -5.84117562e+00,\n",
       "         1.03953755e-01,  8.15003196e-01],\n",
       "       [ 3.49467190e+01,  1.76995807e+00, -6.60150612e+00,\n",
       "        -1.95760371e+00, -4.25321207e-01],\n",
       "       [-1.64889047e+01,  6.35489808e+00, -1.09300717e+00,\n",
       "         4.25499889e+00,  1.70078398e+00],\n",
       "       [-1.77461625e+01,  9.28519350e+00, -1.63979729e+00,\n",
       "         2.31363095e+00,  1.80532098e+00],\n",
       "       [ 1.43372241e+01, -8.09052956e-01,  2.09572761e+00,\n",
       "        -3.48686766e+00, -1.95355005e-01],\n",
       "       [ 3.20789675e+01,  2.73349256e+00,  1.36276369e+00,\n",
       "        -1.98544976e+00, -4.79071699e-01],\n",
       "       [-1.58832868e+01, -1.55730198e+00, -2.39719636e+00,\n",
       "         3.50992128e+00, -1.86968238e-01],\n",
       "       [ 2.31597202e+01, -1.22803823e+00, -5.99957556e+00,\n",
       "        -9.82221195e-01, -4.90755001e-01],\n",
       "       [-1.38317259e+01, -1.13243588e+01,  5.25367842e+00,\n",
       "         1.03643061e+00, -2.72386492e-01],\n",
       "       [ 1.58665280e+01,  3.02028773e+00, -1.80413424e+00,\n",
       "         6.45888642e+00, -3.20588300e-01],\n",
       "       [ 4.75503899e+00, -6.54184480e+00,  2.30503045e+00,\n",
       "        -2.21792868e-02, -2.08812051e-01],\n",
       "       [-9.49700711e+00, -3.74209370e+00,  3.14255953e+00,\n",
       "        -2.36514549e-01, -3.86340407e-01],\n",
       "       [-1.57233080e+01, -4.65259378e-01,  5.49369844e+00,\n",
       "        -1.24817331e+00, -4.73209647e-02],\n",
       "       [-1.39261114e+01, -1.03154929e+01,  4.90994486e+00,\n",
       "         4.09843770e-02, -9.54608793e-02],\n",
       "       [-9.50187446e+00, -3.73551795e+00,  3.10553631e+00,\n",
       "        -2.64756228e-01, -2.51687480e-01],\n",
       "       [ 3.50847020e+01,  5.86148521e-01, -5.31808884e+00,\n",
       "        -3.67511582e+00, -4.12330559e-01],\n",
       "       [ 3.49940486e+01,  1.66921357e+00, -4.35627275e+00,\n",
       "         2.88622822e+00, -5.40169539e-01],\n",
       "       [-1.80519716e+01,  2.52717577e+01, -1.41730617e+00,\n",
       "        -1.09113204e+00, -1.35407133e-01],\n",
       "       [ 3.30798613e+01, -9.28045344e+00,  1.86321404e+00,\n",
       "        -2.27839607e-01, -2.76503194e-01],\n",
       "       [ 1.38904066e+01,  4.26249092e+00,  1.26037095e+00,\n",
       "        -4.18239532e+00, -1.62067605e-01]])"
      ]
     },
     "execution_count": 59,
     "metadata": {},
     "output_type": "execute_result"
    }
   ],
   "source": [
    "pc_df_test=pca2.transform(x_test)\n",
    "pc_df_test"
   ]
  },
  {
   "cell_type": "code",
   "execution_count": 60,
   "id": "83a87351",
   "metadata": {},
   "outputs": [],
   "source": [
    "x_train=pd.DataFrame(data=pc_df_train)\n",
    "x_test = pd.DataFrame(data=pc_df_test)"
   ]
  },
  {
   "cell_type": "code",
   "execution_count": 61,
   "id": "6368697c",
   "metadata": {},
   "outputs": [],
   "source": [
    "var=pca2.explained_variance_ratio_"
   ]
  },
  {
   "cell_type": "code",
   "execution_count": 62,
   "id": "3417b029",
   "metadata": {},
   "outputs": [
    {
     "data": {
      "text/plain": [
       "array([0.71544932, 0.23474508, 0.03105941, 0.01259301, 0.001173  ])"
      ]
     },
     "execution_count": 62,
     "metadata": {},
     "output_type": "execute_result"
    }
   ],
   "source": [
    "var"
   ]
  },
  {
   "cell_type": "code",
   "execution_count": 63,
   "id": "e9035974",
   "metadata": {},
   "outputs": [
    {
     "data": {
      "text/plain": [
       "0.7154493158079112"
      ]
     },
     "execution_count": 63,
     "metadata": {},
     "output_type": "execute_result"
    }
   ],
   "source": [
    "max(var)"
   ]
  },
  {
   "cell_type": "code",
   "execution_count": 64,
   "id": "c34951df",
   "metadata": {},
   "outputs": [
    {
     "data": {
      "text/plain": [
       "0.0011729958797554567"
      ]
     },
     "execution_count": 64,
     "metadata": {},
     "output_type": "execute_result"
    }
   ],
   "source": [
    "min(var)"
   ]
  },
  {
   "cell_type": "code",
   "execution_count": 65,
   "id": "80486143",
   "metadata": {},
   "outputs": [
    {
     "data": {
      "text/plain": [
       "0.9950198076205764"
      ]
     },
     "execution_count": 65,
     "metadata": {},
     "output_type": "execute_result"
    }
   ],
   "source": [
    "sum(var)"
   ]
  },
  {
   "cell_type": "code",
   "execution_count": 66,
   "id": "cd0114c6",
   "metadata": {},
   "outputs": [
    {
     "data": {
      "text/plain": [
       "[0.7154493158079112,\n",
       " 0.23474507578313533,\n",
       " 0.03105941264979811,\n",
       " 0.012593007499976367,\n",
       " 0.0011729958797554567]"
      ]
     },
     "execution_count": 66,
     "metadata": {},
     "output_type": "execute_result"
    }
   ],
   "source": [
    "sorted(var,reverse=True)"
   ]
  },
  {
   "cell_type": "code",
   "execution_count": 67,
   "id": "b611ed8a",
   "metadata": {},
   "outputs": [
    {
     "data": {
      "text/plain": [
       "98.12538042408445"
      ]
     },
     "execution_count": 67,
     "metadata": {},
     "output_type": "execute_result"
    }
   ],
   "source": [
    "sum(sorted(var,reverse=True)[:3])*100"
   ]
  },
  {
   "cell_type": "code",
   "execution_count": 68,
   "id": "1ad20558",
   "metadata": {},
   "outputs": [
    {
     "data": {
      "text/plain": [
       "99.50198076205764"
      ]
     },
     "execution_count": 68,
     "metadata": {},
     "output_type": "execute_result"
    }
   ],
   "source": [
    "sum(sorted(var,reverse=True)[:5])*100"
   ]
  },
  {
   "cell_type": "code",
   "execution_count": 69,
   "id": "a77df260",
   "metadata": {},
   "outputs": [
    {
     "data": {
      "image/png": "[encoded data removed]",
      "text/plain": [
       "<Figure size 432x288 with 1 Axes>"
      ]
     },
     "metadata": {
      "needs_background": "light"
     },
     "output_type": "display_data"
    }
   ],
   "source": [
    "plt.plot(np.cumsum(var))\n",
    "plt.show()"
   ]
  },
  {
   "cell_type": "code",
   "execution_count": 70,
   "id": "2eca47e8",
   "metadata": {},
   "outputs": [
    {
     "data": {
      "text/plain": [
       "array(['pca0', 'pca1', 'pca2', 'pca3', 'pca4'], dtype=object)"
      ]
     },
     "execution_count": 70,
     "metadata": {},
     "output_type": "execute_result"
    }
   ],
   "source": [
    "pca2.get_feature_names_out()"
   ]
  },
  {
   "cell_type": "markdown",
   "id": "3e75d71b",
   "metadata": {},
   "source": [
    "### MODEL BUILDING"
   ]
  },
  {
   "cell_type": "code",
   "execution_count": 71,
   "id": "02dc7d4c",
   "metadata": {},
   "outputs": [],
   "source": [
    "report = []"
   ]
  },
  {
   "cell_type": "code",
   "execution_count": 72,
   "id": "0dbe3dd6",
   "metadata": {},
   "outputs": [],
   "source": [
    "from sklearn.linear_model import LogisticRegression\n",
    "from sklearn.tree import DecisionTreeClassifier\n",
    "from sklearn.ensemble import RandomForestClassifier,AdaBoostClassifier,GradientBoostingClassifier,ExtraTreesClassifier\n",
    "from sklearn.neighbors import KNeighborsClassifier\n",
    "from sklearn.svm import SVC\n",
    "from xgboost import XGBClassifier\n"
   ]
  },
  {
   "cell_type": "code",
   "execution_count": 73,
   "id": "b374b975",
   "metadata": {},
   "outputs": [],
   "source": [
    "def evaluate_clf(true, predicted):\n",
    "    '''\n",
    "    This function takes in true values and predicted values\n",
    "    Returns: Accuracy, F1-Score, Precision, Recall, Roc-auc Score\n",
    "    '''\n",
    "    acc = accuracy_score(true, predicted) # Calculate Accuracy\n",
    "    f1 = f1_score(true, predicted) # Calculate F1-score\n",
    "    precision = precision_score(true, predicted) # Calculate Precision\n",
    "    recall = recall_score(true, predicted)  # Calculate Recall\n",
    "    roc_auc = roc_auc_score(true, predicted) #Calculate Roc\n",
    "    return acc, f1 , precision, recall, roc_auc"
   ]
  },
  {
   "cell_type": "code",
   "execution_count": 74,
   "id": "e2a24b84",
   "metadata": {},
   "outputs": [],
   "source": [
    "from sklearn.metrics import accuracy_score, classification_report,ConfusionMatrixDisplay, \\\n",
    "                            precision_score, recall_score, f1_score, roc_auc_score,roc_curve,confusion_matrix\n",
    "\n",
    "\n",
    "from sklearn import metrics "
   ]
  },
  {
   "cell_type": "code",
   "execution_count": 75,
   "id": "7fe5851f",
   "metadata": {},
   "outputs": [],
   "source": [
    "# Create a function which can evaluate models and return a report \n",
    "def evaluate_models(x_train,x_test,y_train,y_test, models):\n",
    "    '''\n",
    "    This function takes in X and y and models dictionary as input\n",
    "    It splits the data into Train Test split\n",
    "    Iterates through the given model dictionary and evaluates the metrics\n",
    "    Returns: Dataframe which contains report of all models metrics with cost\n",
    "    '''\n",
    "    # separate dataset into train and test\n",
    "    #X_train, X_test, y_train, y_test = train_test_split(X,y,test_size=0.2,random_state=42)\n",
    "    \n",
    "    cost_list=[]\n",
    "    models_list = []\n",
    "    accuracy_list = []\n",
    "    \n",
    "    for i in range(len(list(models))):\n",
    "        model = list(models.values())[i]\n",
    "        model.fit(x_train, y_train) # Train model\n",
    "\n",
    "        # Make predictions\n",
    "        y_train_pred = model.predict(x_train)\n",
    "        y_test_pred = model.predict(x_test)\n",
    "\n",
    "        # Training set performance\n",
    "        model_train_accuracy, model_train_f1,model_train_precision,\\\n",
    "        model_train_recall,model_train_rocauc_score=evaluate_clf(y_train ,y_train_pred)\n",
    "        #train_cost = total_cost(y_train, y_train_pred)\n",
    "\n",
    "\n",
    "        # Test set performance\n",
    "        model_test_accuracy,model_test_f1,model_test_precision,\\\n",
    "        model_test_recall,model_test_rocauc_score=evaluate_clf(y_test, y_test_pred)\n",
    "       #test_cost = total_cost(y_test, y_test_pred)\n",
    "\n",
    "        print(list(models.keys())[i])\n",
    "        models_list.append(list(models.keys())[i])\n",
    "\n",
    "        print('Model performance for Training set')\n",
    "        print(\"- Accuracy: {:.4f}\".format(model_train_accuracy))\n",
    "        print('- F1 score: {:.4f}'.format(model_train_f1)) \n",
    "        print('- Precision: {:.4f}'.format(model_train_precision))\n",
    "        print('- Recall: {:.4f}'.format(model_train_recall))\n",
    "        print('- Roc Auc Score: {:.4f}'.format(model_train_rocauc_score))\n",
    "       # print(f'- COST: {train_cost}.')\n",
    "\n",
    "        print('----------------------------------')\n",
    "\n",
    "        print('Model performance for Test set')\n",
    "        print('- Accuracy: {:.4f}'.format(model_test_accuracy))\n",
    "        print('- F1 score: {:.4f}'.format(model_test_f1))\n",
    "        print('- Precision: {:.4f}'.format(model_test_precision))\n",
    "        print('- Recall: {:.4f}'.format(model_test_recall))\n",
    "        print('- Roc Auc Score: {:.4f}'.format(model_test_rocauc_score))\n",
    "      #  print(f'- COST: {test_cost}.')\n",
    "        accuracy_list.append(model_test_accuracy)\n",
    "        print('='*35)\n",
    "        print('\\n')\n",
    "        \n",
    "    report=pd.DataFrame(list(zip(models_list,accuracy_list )), columns=['Model Name','accuracy '])\n",
    "        \n",
    "    return report"
   ]
  },
  {
   "cell_type": "markdown",
   "id": "65a7213c",
   "metadata": {},
   "source": [
    "### Initialize Default Models in a dictionary"
   ]
  },
  {
   "cell_type": "code",
   "execution_count": 76,
   "id": "723b00c9",
   "metadata": {},
   "outputs": [],
   "source": [
    "# Dictionary which contains models for experiment\n",
    "models = {\n",
    "    \"Random Forest\": RandomForestClassifier(),\n",
    "    \"Decision Tree\": DecisionTreeClassifier(),\n",
    "    \"Gradient Boosting\": GradientBoostingClassifier(),\n",
    "    \"Logistic Regression\": LogisticRegression(),\n",
    "     \"K-Neighbors Classifier\": KNeighborsClassifier(),\n",
    "    \"XGBClassifier\": XGBClassifier(), \n",
    "    \"AdaBoost Classifier\": AdaBoostClassifier()\n",
    "}"
   ]
  },
  {
   "cell_type": "markdown",
   "id": "115802d6",
   "metadata": {},
   "source": [
    "### Fit data for models in dictionary"
   ]
  },
  {
   "cell_type": "code",
   "execution_count": 77,
   "id": "e73cb454",
   "metadata": {
    "scrolled": false
   },
   "outputs": [
    {
     "name": "stdout",
     "output_type": "stream",
     "text": [
      "Random Forest\n",
      "Model performance for Training set\n",
      "- Accuracy: 1.0000\n",
      "- F1 score: 1.0000\n",
      "- Precision: 1.0000\n",
      "- Recall: 1.0000\n",
      "- Roc Auc Score: 1.0000\n",
      "----------------------------------\n",
      "Model performance for Test set\n",
      "- Accuracy: 0.9918\n",
      "- F1 score: 0.9885\n",
      "- Precision: 0.9773\n",
      "- Recall: 1.0000\n",
      "- Roc Auc Score: 0.9937\n",
      "===================================\n",
      "\n",
      "\n",
      "Decision Tree\n",
      "Model performance for Training set\n",
      "- Accuracy: 1.0000\n",
      "- F1 score: 1.0000\n",
      "- Precision: 1.0000\n",
      "- Recall: 1.0000\n",
      "- Roc Auc Score: 1.0000\n",
      "----------------------------------\n",
      "Model performance for Test set\n",
      "- Accuracy: 0.9918\n",
      "- F1 score: 0.9885\n",
      "- Precision: 0.9773\n",
      "- Recall: 1.0000\n",
      "- Roc Auc Score: 0.9937\n",
      "===================================\n",
      "\n",
      "\n",
      "Gradient Boosting\n",
      "Model performance for Training set\n",
      "- Accuracy: 1.0000\n",
      "- F1 score: 1.0000\n",
      "- Precision: 1.0000\n",
      "- Recall: 1.0000\n",
      "- Roc Auc Score: 1.0000\n",
      "----------------------------------\n",
      "Model performance for Test set\n",
      "- Accuracy: 0.9836\n",
      "- F1 score: 0.9767\n",
      "- Precision: 0.9767\n",
      "- Recall: 0.9767\n",
      "- Roc Auc Score: 0.9820\n",
      "===================================\n",
      "\n",
      "\n",
      "Logistic Regression\n",
      "Model performance for Training set\n",
      "- Accuracy: 1.0000\n",
      "- F1 score: 1.0000\n",
      "- Precision: 1.0000\n",
      "- Recall: 1.0000\n",
      "- Roc Auc Score: 1.0000\n",
      "----------------------------------\n",
      "Model performance for Test set\n",
      "- Accuracy: 1.0000\n",
      "- F1 score: 1.0000\n",
      "- Precision: 1.0000\n",
      "- Recall: 1.0000\n",
      "- Roc Auc Score: 1.0000\n",
      "===================================\n",
      "\n",
      "\n",
      "K-Neighbors Classifier\n",
      "Model performance for Training set\n",
      "- Accuracy: 0.9281\n",
      "- F1 score: 0.8669\n",
      "- Precision: 0.9048\n",
      "- Recall: 0.8321\n",
      "- Roc Auc Score: 0.8989\n",
      "----------------------------------\n",
      "Model performance for Test set\n",
      "- Accuracy: 0.8443\n",
      "- F1 score: 0.7397\n",
      "- Precision: 0.9000\n",
      "- Recall: 0.6279\n",
      "- Roc Auc Score: 0.7950\n",
      "===================================\n",
      "\n",
      "\n",
      "XGBClassifier\n",
      "Model performance for Training set\n",
      "- Accuracy: 1.0000\n",
      "- F1 score: 1.0000\n",
      "- Precision: 1.0000\n",
      "- Recall: 1.0000\n",
      "- Roc Auc Score: 1.0000\n",
      "----------------------------------\n",
      "Model performance for Test set\n",
      "- Accuracy: 0.9836\n",
      "- F1 score: 0.9767\n",
      "- Precision: 0.9767\n",
      "- Recall: 0.9767\n",
      "- Roc Auc Score: 0.9820\n",
      "===================================\n",
      "\n",
      "\n",
      "AdaBoost Classifier\n",
      "Model performance for Training set\n",
      "- Accuracy: 1.0000\n",
      "- F1 score: 1.0000\n",
      "- Precision: 1.0000\n",
      "- Recall: 1.0000\n",
      "- Roc Auc Score: 1.0000\n",
      "----------------------------------\n",
      "Model performance for Test set\n",
      "- Accuracy: 0.9918\n",
      "- F1 score: 0.9885\n",
      "- Precision: 0.9773\n",
      "- Recall: 1.0000\n",
      "- Roc Auc Score: 0.9937\n",
      "===================================\n",
      "\n",
      "\n"
     ]
    }
   ],
   "source": [
    "report = evaluate_models(x_train,x_test,y_train,y_test, models)"
   ]
  },
  {
   "cell_type": "code",
   "execution_count": 78,
   "id": "ed7d603e",
   "metadata": {},
   "outputs": [
    {
     "data": {
      "text/html": [
       "<div>\n",
       "<style scoped>\n",
       "    .dataframe tbody tr th:only-of-type {\n",
       "        vertical-align: middle;\n",
       "    }\n",
       "\n",
       "    .dataframe tbody tr th {\n",
       "        vertical-align: top;\n",
       "    }\n",
       "\n",
       "    .dataframe thead th {\n",
       "        text-align: right;\n",
       "    }\n",
       "</style>\n",
       "<table border=\"1\" class=\"dataframe\">\n",
       "  <thead>\n",
       "    <tr style=\"text-align: right;\">\n",
       "      <th></th>\n",
       "      <th>Model Name</th>\n",
       "      <th>accuracy</th>\n",
       "    </tr>\n",
       "  </thead>\n",
       "  <tbody>\n",
       "    <tr>\n",
       "      <th>0</th>\n",
       "      <td>Random Forest</td>\n",
       "      <td>0.991803</td>\n",
       "    </tr>\n",
       "    <tr>\n",
       "      <th>1</th>\n",
       "      <td>Decision Tree</td>\n",
       "      <td>0.991803</td>\n",
       "    </tr>\n",
       "    <tr>\n",
       "      <th>2</th>\n",
       "      <td>Gradient Boosting</td>\n",
       "      <td>0.983607</td>\n",
       "    </tr>\n",
       "    <tr>\n",
       "      <th>3</th>\n",
       "      <td>Logistic Regression</td>\n",
       "      <td>1.000000</td>\n",
       "    </tr>\n",
       "    <tr>\n",
       "      <th>4</th>\n",
       "      <td>K-Neighbors Classifier</td>\n",
       "      <td>0.844262</td>\n",
       "    </tr>\n",
       "    <tr>\n",
       "      <th>5</th>\n",
       "      <td>XGBClassifier</td>\n",
       "      <td>0.983607</td>\n",
       "    </tr>\n",
       "    <tr>\n",
       "      <th>6</th>\n",
       "      <td>AdaBoost Classifier</td>\n",
       "      <td>0.991803</td>\n",
       "    </tr>\n",
       "  </tbody>\n",
       "</table>\n",
       "</div>"
      ],
      "text/plain": [
       "               Model Name  accuracy \n",
       "0           Random Forest   0.991803\n",
       "1           Decision Tree   0.991803\n",
       "2       Gradient Boosting   0.983607\n",
       "3     Logistic Regression   1.000000\n",
       "4  K-Neighbors Classifier   0.844262\n",
       "5           XGBClassifier   0.983607\n",
       "6     AdaBoost Classifier   0.991803"
      ]
     },
     "execution_count": 78,
     "metadata": {},
     "output_type": "execute_result"
    }
   ],
   "source": [
    "report"
   ]
  },
  {
   "cell_type": "markdown",
   "id": "6c26908c",
   "metadata": {},
   "source": [
    "##### So we go with Logistic Regresssion "
   ]
  },
  {
   "cell_type": "code",
   "execution_count": 79,
   "id": "7906236d",
   "metadata": {},
   "outputs": [
    {
     "data": {
      "text/html": [
       "<style>#sk-container-id-1 {color: black;background-color: white;}#sk-container-id-1 pre{padding: 0;}#sk-container-id-1 div.sk-toggleable {background-color: white;}#sk-container-id-1 label.sk-toggleable__label {cursor: pointer;display: block;width: 100%;margin-bottom: 0;padding: 0.3em;box-sizing: border-box;text-align: center;}#sk-container-id-1 label.sk-toggleable__label-arrow:before {content: \"▸\";float: left;margin-right: 0.25em;color: #696969;}#sk-container-id-1 label.sk-toggleable__label-arrow:hover:before {color: black;}#sk-container-id-1 div.sk-estimator:hover label.sk-toggleable__label-arrow:before {color: black;}#sk-container-id-1 div.sk-toggleable__content {max-height: 0;max-width: 0;overflow: hidden;text-align: left;background-color: #f0f8ff;}#sk-container-id-1 div.sk-toggleable__content pre {margin: 0.2em;color: black;border-radius: 0.25em;background-color: #f0f8ff;}#sk-container-id-1 input.sk-toggleable__control:checked~div.sk-toggleable__content {max-height: 200px;max-width: 100%;overflow: auto;}#sk-container-id-1 input.sk-toggleable__control:checked~label.sk-toggleable__label-arrow:before {content: \"▾\";}#sk-container-id-1 div.sk-estimator input.sk-toggleable__control:checked~label.sk-toggleable__label {background-color: #d4ebff;}#sk-container-id-1 div.sk-label input.sk-toggleable__control:checked~label.sk-toggleable__label {background-color: #d4ebff;}#sk-container-id-1 input.sk-hidden--visually {border: 0;clip: rect(1px 1px 1px 1px);clip: rect(1px, 1px, 1px, 1px);height: 1px;margin: -1px;overflow: hidden;padding: 0;position: absolute;width: 1px;}#sk-container-id-1 div.sk-estimator {font-family: monospace;background-color: #f0f8ff;border: 1px dotted black;border-radius: 0.25em;box-sizing: border-box;margin-bottom: 0.5em;}#sk-container-id-1 div.sk-estimator:hover {background-color: #d4ebff;}#sk-container-id-1 div.sk-parallel-item::after {content: \"\";width: 100%;border-bottom: 1px solid gray;flex-grow: 1;}#sk-container-id-1 div.sk-label:hover label.sk-toggleable__label {background-color: #d4ebff;}#sk-container-id-1 div.sk-serial::before {content: \"\";position: absolute;border-left: 1px solid gray;box-sizing: border-box;top: 0;bottom: 0;left: 50%;z-index: 0;}#sk-container-id-1 div.sk-serial {display: flex;flex-direction: column;align-items: center;background-color: white;padding-right: 0.2em;padding-left: 0.2em;position: relative;}#sk-container-id-1 div.sk-item {position: relative;z-index: 1;}#sk-container-id-1 div.sk-parallel {display: flex;align-items: stretch;justify-content: center;background-color: white;position: relative;}#sk-container-id-1 div.sk-item::before, #sk-container-id-1 div.sk-parallel-item::before {content: \"\";position: absolute;border-left: 1px solid gray;box-sizing: border-box;top: 0;bottom: 0;left: 50%;z-index: -1;}#sk-container-id-1 div.sk-parallel-item {display: flex;flex-direction: column;z-index: 1;position: relative;background-color: white;}#sk-container-id-1 div.sk-parallel-item:first-child::after {align-self: flex-end;width: 50%;}#sk-container-id-1 div.sk-parallel-item:last-child::after {align-self: flex-start;width: 50%;}#sk-container-id-1 div.sk-parallel-item:only-child::after {width: 0;}#sk-container-id-1 div.sk-dashed-wrapped {border: 1px dashed gray;margin: 0 0.4em 0.5em 0.4em;box-sizing: border-box;padding-bottom: 0.4em;background-color: white;}#sk-container-id-1 div.sk-label label {font-family: monospace;font-weight: bold;display: inline-block;line-height: 1.2em;}#sk-container-id-1 div.sk-label-container {text-align: center;}#sk-container-id-1 div.sk-container {/* jupyter's `normalize.less` sets `[hidden] { display: none; }` but bootstrap.min.css set `[hidden] { display: none !important; }` so we also need the `!important` here to be able to override the default hidden behavior on the sphinx rendered scikit-learn.org. See: https://github.com/scikit-learn/scikit-learn/issues/21755 */display: inline-block !important;position: relative;}#sk-container-id-1 div.sk-text-repr-fallback {display: none;}</style><div id=\"sk-container-id-1\" class=\"sk-top-container\"><div class=\"sk-text-repr-fallback\"><pre>LogisticRegression()</pre><b>In a Jupyter environment, please rerun this cell to show the HTML representation or trust the notebook. <br />On GitHub, the HTML representation is unable to render, please try loading this page with nbviewer.org.</b></div><div class=\"sk-container\" hidden><div class=\"sk-item\"><div class=\"sk-estimator sk-toggleable\"><input class=\"sk-toggleable__control sk-hidden--visually\" id=\"sk-estimator-id-1\" type=\"checkbox\" checked><label for=\"sk-estimator-id-1\" class=\"sk-toggleable__label sk-toggleable__label-arrow\">LogisticRegression</label><div class=\"sk-toggleable__content\"><pre>LogisticRegression()</pre></div></div></div></div></div>"
      ],
      "text/plain": [
       "LogisticRegression()"
      ]
     },
     "execution_count": 79,
     "metadata": {},
     "output_type": "execute_result"
    }
   ],
   "source": [
    "model =LogisticRegression()\n",
    "model.fit(x_train, y_train)"
   ]
  },
  {
   "cell_type": "code",
   "execution_count": 80,
   "id": "d10efc4f",
   "metadata": {},
   "outputs": [],
   "source": [
    "# Make predictions\n",
    "y_train_pred = model.predict(x_train)\n",
    "y_test_pred = model.predict(x_test)\n",
    "\n",
    "      "
   ]
  },
  {
   "cell_type": "code",
   "execution_count": 81,
   "id": "de439cb4",
   "metadata": {},
   "outputs": [],
   "source": [
    "# Training set performance\n",
    "model_train_accuracy, model_train_f1,model_train_precision,\\\n",
    "model_train_recall,model_train_rocauc_score=evaluate_clf(y_train ,y_train_pred)\n",
    "#train_cost = total_cost(y_train, y_train_pred)"
   ]
  },
  {
   "cell_type": "code",
   "execution_count": 82,
   "id": "22857c8a",
   "metadata": {},
   "outputs": [],
   "source": [
    "# Test set performance\n",
    "model_test_accuracy,model_test_f1,model_test_precision,\\\n",
    "model_test_recall,model_test_rocauc_score=evaluate_clf(y_test, y_test_pred)\n",
    "#test_cost = total_cost(y_test, y_test_pred)"
   ]
  },
  {
   "cell_type": "code",
   "execution_count": 83,
   "id": "8dfe0654",
   "metadata": {},
   "outputs": [
    {
     "name": "stdout",
     "output_type": "stream",
     "text": [
      "Model performance for Training set\n",
      "- Accuracy: 1.0000\n",
      "- F1 score: 1.0000\n",
      "- Precision: 1.0000\n",
      "- Recall: 1.0000\n",
      "- Roc Auc Score: 1.0000\n"
     ]
    }
   ],
   "source": [
    "print('Model performance for Training set')\n",
    "print(\"- Accuracy: {:.4f}\".format(model_train_accuracy))\n",
    "print('- F1 score: {:.4f}'.format(model_train_f1)) \n",
    "print('- Precision: {:.4f}'.format(model_train_precision))\n",
    "print('- Recall: {:.4f}'.format(model_train_recall))\n",
    "print('- Roc Auc Score: {:.4f}'.format(model_train_rocauc_score))\n",
    "# print(f'- COST: {train_cost}.')"
   ]
  },
  {
   "cell_type": "code",
   "execution_count": 84,
   "id": "58f7658b",
   "metadata": {},
   "outputs": [
    {
     "name": "stdout",
     "output_type": "stream",
     "text": [
      "----------------------------------\n",
      "Model performance for Test set\n",
      "- Accuracy: 1.0000\n",
      "- F1 score: 1.0000\n",
      "- Precision: 1.0000\n",
      "- Recall: 1.0000\n",
      "- Roc Auc Score: 1.0000\n"
     ]
    }
   ],
   "source": [
    "print('----------------------------------')\n",
    "\n",
    "print('Model performance for Test set')\n",
    "print('- Accuracy: {:.4f}'.format(model_test_accuracy))\n",
    "print('- F1 score: {:.4f}'.format(model_test_f1))\n",
    "print('- Precision: {:.4f}'.format(model_test_precision))\n",
    "print('- Recall: {:.4f}'.format(model_test_recall))\n",
    "print('- Roc Auc Score: {:.4f}'.format(model_test_rocauc_score))"
   ]
  },
  {
   "cell_type": "code",
   "execution_count": 85,
   "id": "20fea833",
   "metadata": {},
   "outputs": [
    {
     "data": {
      "text/plain": [
       "1.0"
      ]
     },
     "execution_count": 85,
     "metadata": {},
     "output_type": "execute_result"
    }
   ],
   "source": [
    "model.score(x_test,y_test)"
   ]
  },
  {
   "cell_type": "markdown",
   "id": "8c8f3eae",
   "metadata": {
    "heading_collapsed": true
   },
   "source": [
    "## <span style='color: blue'> Summary </span>\n",
    "\n",
    "- Logistic Regression MOdel Gives the Best accuracy "
   ]
  },
  {
   "cell_type": "markdown",
   "id": "3874da14",
   "metadata": {},
   "source": [
    "## <span style='color: green'>  Store the Best model Logistic Regression in a pickle file </span>\n"
   ]
  },
  {
   "cell_type": "code",
   "execution_count": 86,
   "id": "efbe0e26",
   "metadata": {},
   "outputs": [],
   "source": [
    "import pickle\n",
    "pickle.dump(model, open('Logistic_Regression.pickle','wb'))"
   ]
  },
  {
   "cell_type": "markdown",
   "id": "dd7b5fad",
   "metadata": {},
   "source": [
    "# <span style='color: red'> THANK YOU </span>\n"
   ]
  }
 ],
 "metadata": {
  "hide_input": false,
  "kernelspec": {
   "display_name": "Python 3 (ipykernel)",
   "language": "python",
   "name": "python3"
  },
  "language_info": {
   "codemirror_mode": {
    "name": "ipython",
    "version": 3
   },
   "file_extension": ".py",
   "mimetype": "text/x-python",
   "name": "python",
   "nbconvert_exporter": "python",
   "pygments_lexer": "ipython3",
   "version": "3.9.12"
  },
  "nbTranslate": {
   "displayLangs": [
    "*"
   ],
   "hotkey": "alt-t",
   "langInMainMenu": true,
   "sourceLang": "en",
   "targetLang": "fr",
   "useGoogleTranslate": true
  },
  "toc": {
   "base_numbering": 1,
   "nav_menu": {},
   "number_sections": true,
   "sideBar": true,
   "skip_h1_title": false,
   "title_cell": "Table of Contents",
   "title_sidebar": "Contents",
   "toc_cell": false,
   "toc_position": {},
   "toc_section_display": true,
   "toc_window_display": false
  }
 },
 "nbformat": 4,
 "nbformat_minor": 5
}
